{
  "cells": [
    {
      "cell_type": "code",
      "execution_count": 3,
      "metadata": {
        "colab": {
          "base_uri": "https://localhost:8080/"
        },
        "id": "qBSBMqXbxf4Y",
        "outputId": "9588cdbf-2041-4f30-cf71-2b63f81d3aec"
      },
      "outputs": [
        {
          "name": "stdout",
          "output_type": "stream",
          "text": [
            "Drive already mounted at /content/gdrive; to attempt to forcibly remount, call drive.mount(\"/content/gdrive\", force_remount=True).\n"
          ]
        }
      ],
      "source": [
        "from google.colab import drive\n",
        "drive.mount('/content/gdrive')"
      ]
    },
    {
      "cell_type": "code",
      "execution_count": null,
      "metadata": {
        "id": "7Ogu9M8eyA_C"
      },
      "outputs": [],
      "source": [
        "import pandas as pd\n",
        "import numpy as np\n",
        "\n",
        "# !pip install sktime\n",
        "from sktime.forecasting.model_selection import temporal_train_test_split"
      ]
    },
    {
      "cell_type": "code",
      "execution_count": 5,
      "metadata": {
        "colab": {
          "base_uri": "https://localhost:8080/",
          "height": 491
        },
        "id": "Xkb7U0oMxx-o",
        "outputId": "6a6a0d3d-1c7d-4060-8298-91f31c1487f1"
      },
      "outputs": [
        {
          "name": "stdout",
          "output_type": "stream",
          "text": [
            "(14145, 23)\n"
          ]
        },
        {
          "data": {
            "text/html": [
              "\n",
              "  <div id=\"df-d1feda9f-bb0c-4b91-b48e-6cb44e5599c0\">\n",
              "    <div class=\"colab-df-container\">\n",
              "      <div>\n",
              "<style scoped>\n",
              "    .dataframe tbody tr th:only-of-type {\n",
              "        vertical-align: middle;\n",
              "    }\n",
              "\n",
              "    .dataframe tbody tr th {\n",
              "        vertical-align: top;\n",
              "    }\n",
              "\n",
              "    .dataframe thead th {\n",
              "        text-align: right;\n",
              "    }\n",
              "</style>\n",
              "<table border=\"1\" class=\"dataframe\">\n",
              "  <thead>\n",
              "    <tr style=\"text-align: right;\">\n",
              "      <th></th>\n",
              "      <th>ma_w_x</th>\n",
              "      <th>macd_w_x</th>\n",
              "      <th>macdsignal_w_x</th>\n",
              "      <th>macdhist_w_x</th>\n",
              "      <th>rsi_w_x</th>\n",
              "      <th>ad_w_x</th>\n",
              "      <th>ts_end_x</th>\n",
              "      <th>ts_start_x</th>\n",
              "      <th>is_higher_x</th>\n",
              "      <th>offset_intra_day_x</th>\n",
              "      <th>...</th>\n",
              "      <th>macdsignal_w_y</th>\n",
              "      <th>macdhist_w_y</th>\n",
              "      <th>rsi_w_y</th>\n",
              "      <th>ad_w_y</th>\n",
              "      <th>ts_end_y</th>\n",
              "      <th>ts_start_y</th>\n",
              "      <th>is_higher_y</th>\n",
              "      <th>offset_intra_day_y</th>\n",
              "      <th>target_y</th>\n",
              "      <th>label</th>\n",
              "    </tr>\n",
              "  </thead>\n",
              "  <tbody>\n",
              "    <tr>\n",
              "      <th>2021-12-02 11:12:00</th>\n",
              "      <td>32.906667</td>\n",
              "      <td>8.622361</td>\n",
              "      <td>22.457295</td>\n",
              "      <td>-13.834934</td>\n",
              "      <td>-1.847265</td>\n",
              "      <td>51515.668116</td>\n",
              "      <td>False</td>\n",
              "      <td>False</td>\n",
              "      <td>True</td>\n",
              "      <td>0.330769</td>\n",
              "      <td>...</td>\n",
              "      <td>-2.542392</td>\n",
              "      <td>1.449403</td>\n",
              "      <td>1.920541</td>\n",
              "      <td>-541806.0</td>\n",
              "      <td>False</td>\n",
              "      <td>False</td>\n",
              "      <td>False</td>\n",
              "      <td>0.330769</td>\n",
              "      <td>0.998628</td>\n",
              "      <td>NOP</td>\n",
              "    </tr>\n",
              "    <tr>\n",
              "      <th>2021-12-02 11:15:00</th>\n",
              "      <td>35.760000</td>\n",
              "      <td>2.547207</td>\n",
              "      <td>18.475277</td>\n",
              "      <td>-15.928070</td>\n",
              "      <td>-5.503149</td>\n",
              "      <td>25495.709956</td>\n",
              "      <td>False</td>\n",
              "      <td>False</td>\n",
              "      <td>True</td>\n",
              "      <td>0.338462</td>\n",
              "      <td>...</td>\n",
              "      <td>-2.110002</td>\n",
              "      <td>1.729559</td>\n",
              "      <td>7.159809</td>\n",
              "      <td>-309922.4</td>\n",
              "      <td>False</td>\n",
              "      <td>False</td>\n",
              "      <td>False</td>\n",
              "      <td>0.338462</td>\n",
              "      <td>0.997340</td>\n",
              "      <td>NOP</td>\n",
              "    </tr>\n",
              "    <tr>\n",
              "      <th>2021-12-02 11:18:00</th>\n",
              "      <td>42.043333</td>\n",
              "      <td>-2.153807</td>\n",
              "      <td>14.349460</td>\n",
              "      <td>-16.503267</td>\n",
              "      <td>-4.424460</td>\n",
              "      <td>21430.047899</td>\n",
              "      <td>False</td>\n",
              "      <td>False</td>\n",
              "      <td>True</td>\n",
              "      <td>0.346154</td>\n",
              "      <td>...</td>\n",
              "      <td>-1.723365</td>\n",
              "      <td>1.546547</td>\n",
              "      <td>2.957516</td>\n",
              "      <td>-377094.0</td>\n",
              "      <td>False</td>\n",
              "      <td>False</td>\n",
              "      <td>False</td>\n",
              "      <td>0.346154</td>\n",
              "      <td>0.998507</td>\n",
              "      <td>NOP</td>\n",
              "    </tr>\n",
              "    <tr>\n",
              "      <th>2021-12-02 11:21:00</th>\n",
              "      <td>46.373333</td>\n",
              "      <td>-6.761681</td>\n",
              "      <td>10.127232</td>\n",
              "      <td>-16.888913</td>\n",
              "      <td>-4.671662</td>\n",
              "      <td>15676.338589</td>\n",
              "      <td>False</td>\n",
              "      <td>False</td>\n",
              "      <td>True</td>\n",
              "      <td>0.353846</td>\n",
              "      <td>...</td>\n",
              "      <td>-1.278042</td>\n",
              "      <td>1.781292</td>\n",
              "      <td>8.215010</td>\n",
              "      <td>-245900.2</td>\n",
              "      <td>False</td>\n",
              "      <td>False</td>\n",
              "      <td>False</td>\n",
              "      <td>0.353846</td>\n",
              "      <td>0.997179</td>\n",
              "      <td>X</td>\n",
              "    </tr>\n",
              "    <tr>\n",
              "      <th>2021-12-02 11:24:00</th>\n",
              "      <td>53.736667</td>\n",
              "      <td>-6.298201</td>\n",
              "      <td>6.842146</td>\n",
              "      <td>-13.140346</td>\n",
              "      <td>0.011823</td>\n",
              "      <td>24676.029280</td>\n",
              "      <td>False</td>\n",
              "      <td>False</td>\n",
              "      <td>True</td>\n",
              "      <td>0.361538</td>\n",
              "      <td>...</td>\n",
              "      <td>-0.888162</td>\n",
              "      <td>1.559519</td>\n",
              "      <td>4.020271</td>\n",
              "      <td>-663077.5</td>\n",
              "      <td>False</td>\n",
              "      <td>False</td>\n",
              "      <td>False</td>\n",
              "      <td>0.361538</td>\n",
              "      <td>0.998305</td>\n",
              "      <td>NOP</td>\n",
              "    </tr>\n",
              "  </tbody>\n",
              "</table>\n",
              "<p>5 rows × 23 columns</p>\n",
              "</div>\n",
              "      <button class=\"colab-df-convert\" onclick=\"convertToInteractive('df-d1feda9f-bb0c-4b91-b48e-6cb44e5599c0')\"\n",
              "              title=\"Convert this dataframe to an interactive table.\"\n",
              "              style=\"display:none;\">\n",
              "        \n",
              "  <svg xmlns=\"http://www.w3.org/2000/svg\" height=\"24px\"viewBox=\"0 0 24 24\"\n",
              "       width=\"24px\">\n",
              "    <path d=\"M0 0h24v24H0V0z\" fill=\"none\"/>\n",
              "    <path d=\"M18.56 5.44l.94 2.06.94-2.06 2.06-.94-2.06-.94-.94-2.06-.94 2.06-2.06.94zm-11 1L8.5 8.5l.94-2.06 2.06-.94-2.06-.94L8.5 2.5l-.94 2.06-2.06.94zm10 10l.94 2.06.94-2.06 2.06-.94-2.06-.94-.94-2.06-.94 2.06-2.06.94z\"/><path d=\"M17.41 7.96l-1.37-1.37c-.4-.4-.92-.59-1.43-.59-.52 0-1.04.2-1.43.59L10.3 9.45l-7.72 7.72c-.78.78-.78 2.05 0 2.83L4 21.41c.39.39.9.59 1.41.59.51 0 1.02-.2 1.41-.59l7.78-7.78 2.81-2.81c.8-.78.8-2.07 0-2.86zM5.41 20L4 18.59l7.72-7.72 1.47 1.35L5.41 20z\"/>\n",
              "  </svg>\n",
              "      </button>\n",
              "      \n",
              "  <style>\n",
              "    .colab-df-container {\n",
              "      display:flex;\n",
              "      flex-wrap:wrap;\n",
              "      gap: 12px;\n",
              "    }\n",
              "\n",
              "    .colab-df-convert {\n",
              "      background-color: #E8F0FE;\n",
              "      border: none;\n",
              "      border-radius: 50%;\n",
              "      cursor: pointer;\n",
              "      display: none;\n",
              "      fill: #1967D2;\n",
              "      height: 32px;\n",
              "      padding: 0 0 0 0;\n",
              "      width: 32px;\n",
              "    }\n",
              "\n",
              "    .colab-df-convert:hover {\n",
              "      background-color: #E2EBFA;\n",
              "      box-shadow: 0px 1px 2px rgba(60, 64, 67, 0.3), 0px 1px 3px 1px rgba(60, 64, 67, 0.15);\n",
              "      fill: #174EA6;\n",
              "    }\n",
              "\n",
              "    [theme=dark] .colab-df-convert {\n",
              "      background-color: #3B4455;\n",
              "      fill: #D2E3FC;\n",
              "    }\n",
              "\n",
              "    [theme=dark] .colab-df-convert:hover {\n",
              "      background-color: #434B5C;\n",
              "      box-shadow: 0px 1px 3px 1px rgba(0, 0, 0, 0.15);\n",
              "      filter: drop-shadow(0px 1px 2px rgba(0, 0, 0, 0.3));\n",
              "      fill: #FFFFFF;\n",
              "    }\n",
              "  </style>\n",
              "\n",
              "      <script>\n",
              "        const buttonEl =\n",
              "          document.querySelector('#df-d1feda9f-bb0c-4b91-b48e-6cb44e5599c0 button.colab-df-convert');\n",
              "        buttonEl.style.display =\n",
              "          google.colab.kernel.accessAllowed ? 'block' : 'none';\n",
              "\n",
              "        async function convertToInteractive(key) {\n",
              "          const element = document.querySelector('#df-d1feda9f-bb0c-4b91-b48e-6cb44e5599c0');\n",
              "          const dataTable =\n",
              "            await google.colab.kernel.invokeFunction('convertToInteractive',\n",
              "                                                     [key], {});\n",
              "          if (!dataTable) return;\n",
              "\n",
              "          const docLinkHtml = 'Like what you see? Visit the ' +\n",
              "            '<a target=\"_blank\" href=https://colab.research.google.com/notebooks/data_table.ipynb>data table notebook</a>'\n",
              "            + ' to learn more about interactive tables.';\n",
              "          element.innerHTML = '';\n",
              "          dataTable['output_type'] = 'display_data';\n",
              "          await google.colab.output.renderOutput(dataTable, element);\n",
              "          const docLink = document.createElement('div');\n",
              "          docLink.innerHTML = docLinkHtml;\n",
              "          element.appendChild(docLink);\n",
              "        }\n",
              "      </script>\n",
              "    </div>\n",
              "  </div>\n",
              "  "
            ],
            "text/plain": [
              "                        ma_w_x  macd_w_x  macdsignal_w_x  macdhist_w_x  \\\n",
              "2021-12-02 11:12:00  32.906667  8.622361       22.457295    -13.834934   \n",
              "2021-12-02 11:15:00  35.760000  2.547207       18.475277    -15.928070   \n",
              "2021-12-02 11:18:00  42.043333 -2.153807       14.349460    -16.503267   \n",
              "2021-12-02 11:21:00  46.373333 -6.761681       10.127232    -16.888913   \n",
              "2021-12-02 11:24:00  53.736667 -6.298201        6.842146    -13.140346   \n",
              "\n",
              "                      rsi_w_x        ad_w_x ts_end_x ts_start_x is_higher_x  \\\n",
              "2021-12-02 11:12:00 -1.847265  51515.668116    False      False        True   \n",
              "2021-12-02 11:15:00 -5.503149  25495.709956    False      False        True   \n",
              "2021-12-02 11:18:00 -4.424460  21430.047899    False      False        True   \n",
              "2021-12-02 11:21:00 -4.671662  15676.338589    False      False        True   \n",
              "2021-12-02 11:24:00  0.011823  24676.029280    False      False        True   \n",
              "\n",
              "                     offset_intra_day_x  ...  macdsignal_w_y  macdhist_w_y  \\\n",
              "2021-12-02 11:12:00            0.330769  ...       -2.542392      1.449403   \n",
              "2021-12-02 11:15:00            0.338462  ...       -2.110002      1.729559   \n",
              "2021-12-02 11:18:00            0.346154  ...       -1.723365      1.546547   \n",
              "2021-12-02 11:21:00            0.353846  ...       -1.278042      1.781292   \n",
              "2021-12-02 11:24:00            0.361538  ...       -0.888162      1.559519   \n",
              "\n",
              "                      rsi_w_y    ad_w_y  ts_end_y  ts_start_y  is_higher_y  \\\n",
              "2021-12-02 11:12:00  1.920541 -541806.0     False       False        False   \n",
              "2021-12-02 11:15:00  7.159809 -309922.4     False       False        False   \n",
              "2021-12-02 11:18:00  2.957516 -377094.0     False       False        False   \n",
              "2021-12-02 11:21:00  8.215010 -245900.2     False       False        False   \n",
              "2021-12-02 11:24:00  4.020271 -663077.5     False       False        False   \n",
              "\n",
              "                    offset_intra_day_y  target_y label  \n",
              "2021-12-02 11:12:00           0.330769  0.998628   NOP  \n",
              "2021-12-02 11:15:00           0.338462  0.997340   NOP  \n",
              "2021-12-02 11:18:00           0.346154  0.998507   NOP  \n",
              "2021-12-02 11:21:00           0.353846  0.997179     X  \n",
              "2021-12-02 11:24:00           0.361538  0.998305   NOP  \n",
              "\n",
              "[5 rows x 23 columns]"
            ]
          },
          "execution_count": 5,
          "metadata": {},
          "output_type": "execute_result"
        }
      ],
      "source": [
        "data_file = \"/content/gdrive/MyDrive/Colab Notebooks/4-2/AIFT/data.csv\"\n",
        "df = pd.read_csv(data_file,index_col='Unnamed: 0')\n",
        "df = df.iloc[1:][:]\n",
        "print(df.shape)\n",
        "df.head()"
      ]
    },
    {
      "cell_type": "code",
      "execution_count": 6,
      "metadata": {
        "id": "x5QHosWEytHP"
      },
      "outputs": [],
      "source": [
        "effective_cols = [\n",
        "\n",
        "       'ma_w_x', 'macd_w_x', 'macdsignal_w_x', 'macdhist_w_x', 'rsi_w_x', 'ad_w_x', 'is_higher_x', \n",
        "       'ts_end_x', 'ts_start_x', 'offset_intra_day_x', \n",
        "       'ma_w_y', 'macd_w_y', 'macdsignal_w_y', 'macdhist_w_y', 'rsi_w_y', 'ad_w_y', 'is_higher_y', \n",
        "\n",
        "\n",
        "       'label'\n",
        "       \n",
        "       ]"
      ]
    },
    {
      "cell_type": "code",
      "execution_count": 7,
      "metadata": {
        "id": "By2jpR5YzCg0"
      },
      "outputs": [],
      "source": [
        "data_df = df[effective_cols].dropna(axis=0)"
      ]
    },
    {
      "cell_type": "code",
      "execution_count": null,
      "metadata": {
        "id": "Sic17NS-y0j1"
      },
      "outputs": [],
      "source": [
        "#! pip install flaml\n",
        "from flaml import AutoML\n",
        "automl = AutoML()"
      ]
    },
    {
      "cell_type": "code",
      "execution_count": 9,
      "metadata": {
        "id": "Ai53ElAYzF2q"
      },
      "outputs": [],
      "source": [
        "learn_split = data_df.loc[:'2022-09-30']\n",
        "test_split = data_df.loc['2022-10-01':'2022-12-08']"
      ]
    },
    {
      "cell_type": "code",
      "execution_count": 10,
      "metadata": {
        "id": "J4g18WIe1E9U"
      },
      "outputs": [],
      "source": [
        "X_train, X_val = temporal_train_test_split(learn_split, test_size=0.2)\n",
        "X_test = test_split"
      ]
    },
    {
      "cell_type": "code",
      "execution_count": 11,
      "metadata": {
        "id": "8q0O5IQZ2SOk"
      },
      "outputs": [],
      "source": [
        "y_train = X_train.pop('label')\n",
        "y_val = X_val.pop('label')\n",
        "y_test = X_test.pop('label')"
      ]
    },
    {
      "cell_type": "code",
      "execution_count": 12,
      "metadata": {
        "colab": {
          "base_uri": "https://localhost:8080/"
        },
        "id": "bK3C-OPu2V73",
        "outputId": "c57f0373-373e-46ac-cf29-5adb4dee9549"
      },
      "outputs": [
        {
          "data": {
            "text/plain": [
              "NOP    0.910646\n",
              "Y      0.048898\n",
              "X      0.040456\n",
              "Name: label, dtype: float64"
            ]
          },
          "execution_count": 12,
          "metadata": {},
          "output_type": "execute_result"
        }
      ],
      "source": [
        "y_train.value_counts(normalize=True)"
      ]
    },
    {
      "cell_type": "code",
      "execution_count": 13,
      "metadata": {
        "colab": {
          "base_uri": "https://localhost:8080/"
        },
        "id": "KFM4zY9B2Xs9",
        "outputId": "c26c4e98-4f92-4051-e33c-cafe2c217dfa"
      },
      "outputs": [
        {
          "data": {
            "text/plain": [
              "NOP    0.943446\n",
              "X      0.029811\n",
              "Y      0.026743\n",
              "Name: label, dtype: float64"
            ]
          },
          "execution_count": 13,
          "metadata": {},
          "output_type": "execute_result"
        }
      ],
      "source": [
        "y_val.value_counts(normalize=True)"
      ]
    },
    {
      "cell_type": "code",
      "execution_count": 14,
      "metadata": {
        "colab": {
          "base_uri": "https://localhost:8080/"
        },
        "id": "1v3STj_c22bY",
        "outputId": "340df3fc-675e-475f-a679-df3ad011b29a"
      },
      "outputs": [
        {
          "data": {
            "text/plain": [
              "NOP    0.912655\n",
              "X      0.055512\n",
              "Y      0.031832\n",
              "Name: label, dtype: float64"
            ]
          },
          "execution_count": 14,
          "metadata": {},
          "output_type": "execute_result"
        }
      ],
      "source": [
        "y_test.value_counts(normalize=True)"
      ]
    },
    {
      "cell_type": "code",
      "execution_count": 15,
      "metadata": {
        "id": "IQISku6427Hj"
      },
      "outputs": [],
      "source": [
        "from imblearn.over_sampling import RandomOverSampler\n",
        "from imblearn.combine import SMOTETomek"
      ]
    },
    {
      "cell_type": "code",
      "execution_count": 16,
      "metadata": {
        "id": "4zgIzSAT28aw"
      },
      "outputs": [],
      "source": [
        "smt = SMOTETomek(random_state=42)\n",
        "X_resampled, y_resampled = smt.fit_resample(X_train, y_train)"
      ]
    },
    {
      "cell_type": "code",
      "execution_count": 17,
      "metadata": {
        "id": "Qit1Qfm13C3i"
      },
      "outputs": [],
      "source": [
        "from sklearn.model_selection import train_test_split\n",
        "X_resampled_train, X_resampled_test, y_resampled_train, y_resampled_test = train_test_split(X_resampled, y_resampled, test_size=0.2, random_state=42)"
      ]
    },
    {
      "cell_type": "code",
      "execution_count": 18,
      "metadata": {
        "colab": {
          "base_uri": "https://localhost:8080/"
        },
        "id": "nIbnqi9E3FxR",
        "outputId": "830baa58-3333-4c37-8301-4098d06e8502"
      },
      "outputs": [
        {
          "name": "stderr",
          "output_type": "stream",
          "text": [
            "[flaml.automl: 12-10 09:24:50] {2599} INFO - task = classification\n",
            "INFO:flaml.automl:task = classification\n",
            "[flaml.automl: 12-10 09:24:50] {2601} INFO - Data split method: stratified\n",
            "INFO:flaml.automl:Data split method: stratified\n",
            "[flaml.automl: 12-10 09:24:51] {2604} INFO - Evaluation method: holdout\n",
            "INFO:flaml.automl:Evaluation method: holdout\n",
            "[flaml.automl: 12-10 09:24:51] {2726} INFO - Minimizing error metric: log_loss\n",
            "INFO:flaml.automl:Minimizing error metric: log_loss\n",
            "[flaml.automl: 12-10 09:24:51] {2870} INFO - List of ML learners in AutoML Run: ['xgboost']\n",
            "INFO:flaml.automl:List of ML learners in AutoML Run: ['xgboost']\n",
            "[flaml.automl: 12-10 09:24:51] {3166} INFO - iteration 0, current learner xgboost\n",
            "INFO:flaml.automl:iteration 0, current learner xgboost\n",
            "[flaml.automl: 12-10 09:24:51] {3296} INFO - Estimated sufficient time budget=6952s. Estimated necessary time budget=7s.\n",
            "INFO:flaml.automl:Estimated sufficient time budget=6952s. Estimated necessary time budget=7s.\n",
            "[flaml.automl: 12-10 09:24:51] {3343} INFO -  at 1.0s,\testimator xgboost's best error=1.0633,\tbest estimator xgboost's best error=1.0633\n",
            "INFO:flaml.automl: at 1.0s,\testimator xgboost's best error=1.0633,\tbest estimator xgboost's best error=1.0633\n",
            "[flaml.automl: 12-10 09:24:51] {3166} INFO - iteration 1, current learner xgboost\n",
            "INFO:flaml.automl:iteration 1, current learner xgboost\n",
            "[flaml.automl: 12-10 09:24:51] {3343} INFO -  at 1.2s,\testimator xgboost's best error=1.0633,\tbest estimator xgboost's best error=1.0633\n",
            "INFO:flaml.automl: at 1.2s,\testimator xgboost's best error=1.0633,\tbest estimator xgboost's best error=1.0633\n",
            "[flaml.automl: 12-10 09:24:51] {3166} INFO - iteration 2, current learner xgboost\n",
            "INFO:flaml.automl:iteration 2, current learner xgboost\n",
            "[flaml.automl: 12-10 09:24:52] {3343} INFO -  at 1.5s,\testimator xgboost's best error=1.0292,\tbest estimator xgboost's best error=1.0292\n",
            "INFO:flaml.automl: at 1.5s,\testimator xgboost's best error=1.0292,\tbest estimator xgboost's best error=1.0292\n",
            "[flaml.automl: 12-10 09:24:52] {3166} INFO - iteration 3, current learner xgboost\n",
            "INFO:flaml.automl:iteration 3, current learner xgboost\n",
            "[flaml.automl: 12-10 09:24:52] {3343} INFO -  at 1.7s,\testimator xgboost's best error=1.0014,\tbest estimator xgboost's best error=1.0014\n",
            "INFO:flaml.automl: at 1.7s,\testimator xgboost's best error=1.0014,\tbest estimator xgboost's best error=1.0014\n",
            "[flaml.automl: 12-10 09:24:52] {3166} INFO - iteration 4, current learner xgboost\n",
            "INFO:flaml.automl:iteration 4, current learner xgboost\n",
            "[flaml.automl: 12-10 09:24:52] {3343} INFO -  at 2.0s,\testimator xgboost's best error=1.0014,\tbest estimator xgboost's best error=1.0014\n",
            "INFO:flaml.automl: at 2.0s,\testimator xgboost's best error=1.0014,\tbest estimator xgboost's best error=1.0014\n",
            "[flaml.automl: 12-10 09:24:52] {3166} INFO - iteration 5, current learner xgboost\n",
            "INFO:flaml.automl:iteration 5, current learner xgboost\n",
            "[flaml.automl: 12-10 09:24:52] {3343} INFO -  at 2.2s,\testimator xgboost's best error=1.0014,\tbest estimator xgboost's best error=1.0014\n",
            "INFO:flaml.automl: at 2.2s,\testimator xgboost's best error=1.0014,\tbest estimator xgboost's best error=1.0014\n",
            "[flaml.automl: 12-10 09:24:52] {3166} INFO - iteration 6, current learner xgboost\n",
            "INFO:flaml.automl:iteration 6, current learner xgboost\n",
            "[flaml.automl: 12-10 09:24:53] {3343} INFO -  at 2.9s,\testimator xgboost's best error=1.0014,\tbest estimator xgboost's best error=1.0014\n",
            "INFO:flaml.automl: at 2.9s,\testimator xgboost's best error=1.0014,\tbest estimator xgboost's best error=1.0014\n",
            "[flaml.automl: 12-10 09:24:53] {3166} INFO - iteration 7, current learner xgboost\n",
            "INFO:flaml.automl:iteration 7, current learner xgboost\n",
            "[flaml.automl: 12-10 09:24:54] {3343} INFO -  at 3.3s,\testimator xgboost's best error=1.0014,\tbest estimator xgboost's best error=1.0014\n",
            "INFO:flaml.automl: at 3.3s,\testimator xgboost's best error=1.0014,\tbest estimator xgboost's best error=1.0014\n",
            "[flaml.automl: 12-10 09:24:54] {3166} INFO - iteration 8, current learner xgboost\n",
            "INFO:flaml.automl:iteration 8, current learner xgboost\n",
            "[flaml.automl: 12-10 09:24:54] {3343} INFO -  at 3.6s,\testimator xgboost's best error=1.0014,\tbest estimator xgboost's best error=1.0014\n",
            "INFO:flaml.automl: at 3.6s,\testimator xgboost's best error=1.0014,\tbest estimator xgboost's best error=1.0014\n",
            "[flaml.automl: 12-10 09:24:54] {3166} INFO - iteration 9, current learner xgboost\n",
            "INFO:flaml.automl:iteration 9, current learner xgboost\n",
            "[flaml.automl: 12-10 09:24:54] {3343} INFO -  at 3.9s,\testimator xgboost's best error=0.9731,\tbest estimator xgboost's best error=0.9731\n",
            "INFO:flaml.automl: at 3.9s,\testimator xgboost's best error=0.9731,\tbest estimator xgboost's best error=0.9731\n",
            "[flaml.automl: 12-10 09:24:54] {3166} INFO - iteration 10, current learner xgboost\n",
            "INFO:flaml.automl:iteration 10, current learner xgboost\n",
            "[flaml.automl: 12-10 09:24:54] {3343} INFO -  at 4.1s,\testimator xgboost's best error=0.9731,\tbest estimator xgboost's best error=0.9731\n",
            "INFO:flaml.automl: at 4.1s,\testimator xgboost's best error=0.9731,\tbest estimator xgboost's best error=0.9731\n",
            "[flaml.automl: 12-10 09:24:54] {3166} INFO - iteration 11, current learner xgboost\n",
            "INFO:flaml.automl:iteration 11, current learner xgboost\n",
            "[flaml.automl: 12-10 09:24:55] {3343} INFO -  at 4.7s,\testimator xgboost's best error=0.9731,\tbest estimator xgboost's best error=0.9731\n",
            "INFO:flaml.automl: at 4.7s,\testimator xgboost's best error=0.9731,\tbest estimator xgboost's best error=0.9731\n",
            "[flaml.automl: 12-10 09:24:55] {3166} INFO - iteration 12, current learner xgboost\n",
            "INFO:flaml.automl:iteration 12, current learner xgboost\n",
            "[flaml.automl: 12-10 09:24:57] {3343} INFO -  at 7.1s,\testimator xgboost's best error=0.8898,\tbest estimator xgboost's best error=0.8898\n",
            "INFO:flaml.automl: at 7.1s,\testimator xgboost's best error=0.8898,\tbest estimator xgboost's best error=0.8898\n",
            "[flaml.automl: 12-10 09:24:57] {3166} INFO - iteration 13, current learner xgboost\n",
            "INFO:flaml.automl:iteration 13, current learner xgboost\n",
            "[flaml.automl: 12-10 09:24:58] {3343} INFO -  at 8.0s,\testimator xgboost's best error=0.8573,\tbest estimator xgboost's best error=0.8573\n",
            "INFO:flaml.automl: at 8.0s,\testimator xgboost's best error=0.8573,\tbest estimator xgboost's best error=0.8573\n",
            "[flaml.automl: 12-10 09:24:58] {3166} INFO - iteration 14, current learner xgboost\n",
            "INFO:flaml.automl:iteration 14, current learner xgboost\n",
            "[flaml.automl: 12-10 09:25:02] {3343} INFO -  at 11.5s,\testimator xgboost's best error=0.8573,\tbest estimator xgboost's best error=0.8573\n",
            "INFO:flaml.automl: at 11.5s,\testimator xgboost's best error=0.8573,\tbest estimator xgboost's best error=0.8573\n",
            "[flaml.automl: 12-10 09:25:02] {3166} INFO - iteration 15, current learner xgboost\n",
            "INFO:flaml.automl:iteration 15, current learner xgboost\n",
            "[flaml.automl: 12-10 09:25:03] {3343} INFO -  at 12.8s,\testimator xgboost's best error=0.8573,\tbest estimator xgboost's best error=0.8573\n",
            "INFO:flaml.automl: at 12.8s,\testimator xgboost's best error=0.8573,\tbest estimator xgboost's best error=0.8573\n",
            "[flaml.automl: 12-10 09:25:03] {3166} INFO - iteration 16, current learner xgboost\n",
            "INFO:flaml.automl:iteration 16, current learner xgboost\n",
            "[flaml.automl: 12-10 09:25:05] {3343} INFO -  at 15.0s,\testimator xgboost's best error=0.8573,\tbest estimator xgboost's best error=0.8573\n",
            "INFO:flaml.automl: at 15.0s,\testimator xgboost's best error=0.8573,\tbest estimator xgboost's best error=0.8573\n",
            "[flaml.automl: 12-10 09:25:05] {3166} INFO - iteration 17, current learner xgboost\n",
            "INFO:flaml.automl:iteration 17, current learner xgboost\n",
            "[flaml.automl: 12-10 09:25:06] {3343} INFO -  at 16.1s,\testimator xgboost's best error=0.8573,\tbest estimator xgboost's best error=0.8573\n",
            "INFO:flaml.automl: at 16.1s,\testimator xgboost's best error=0.8573,\tbest estimator xgboost's best error=0.8573\n",
            "[flaml.automl: 12-10 09:25:06] {3166} INFO - iteration 18, current learner xgboost\n",
            "INFO:flaml.automl:iteration 18, current learner xgboost\n",
            "[flaml.automl: 12-10 09:25:10] {3343} INFO -  at 19.8s,\testimator xgboost's best error=0.7263,\tbest estimator xgboost's best error=0.7263\n",
            "INFO:flaml.automl: at 19.8s,\testimator xgboost's best error=0.7263,\tbest estimator xgboost's best error=0.7263\n",
            "[flaml.automl: 12-10 09:25:10] {3166} INFO - iteration 19, current learner xgboost\n",
            "INFO:flaml.automl:iteration 19, current learner xgboost\n",
            "[flaml.automl: 12-10 09:25:11] {3343} INFO -  at 20.4s,\testimator xgboost's best error=0.7263,\tbest estimator xgboost's best error=0.7263\n",
            "INFO:flaml.automl: at 20.4s,\testimator xgboost's best error=0.7263,\tbest estimator xgboost's best error=0.7263\n",
            "[flaml.automl: 12-10 09:25:11] {3166} INFO - iteration 20, current learner xgboost\n",
            "INFO:flaml.automl:iteration 20, current learner xgboost\n",
            "[flaml.automl: 12-10 09:25:22] {3343} INFO -  at 32.1s,\testimator xgboost's best error=0.6091,\tbest estimator xgboost's best error=0.6091\n",
            "INFO:flaml.automl: at 32.1s,\testimator xgboost's best error=0.6091,\tbest estimator xgboost's best error=0.6091\n",
            "[flaml.automl: 12-10 09:25:22] {3166} INFO - iteration 21, current learner xgboost\n",
            "INFO:flaml.automl:iteration 21, current learner xgboost\n",
            "[flaml.automl: 12-10 09:25:24] {3343} INFO -  at 33.9s,\testimator xgboost's best error=0.6091,\tbest estimator xgboost's best error=0.6091\n",
            "INFO:flaml.automl: at 33.9s,\testimator xgboost's best error=0.6091,\tbest estimator xgboost's best error=0.6091\n",
            "[flaml.automl: 12-10 09:25:24] {3166} INFO - iteration 22, current learner xgboost\n",
            "INFO:flaml.automl:iteration 22, current learner xgboost\n",
            "[flaml.automl: 12-10 09:25:27] {3343} INFO -  at 36.5s,\testimator xgboost's best error=0.6091,\tbest estimator xgboost's best error=0.6091\n",
            "INFO:flaml.automl: at 36.5s,\testimator xgboost's best error=0.6091,\tbest estimator xgboost's best error=0.6091\n",
            "[flaml.automl: 12-10 09:25:27] {3166} INFO - iteration 23, current learner xgboost\n",
            "INFO:flaml.automl:iteration 23, current learner xgboost\n",
            "[flaml.automl: 12-10 09:25:29] {3343} INFO -  at 39.2s,\testimator xgboost's best error=0.6091,\tbest estimator xgboost's best error=0.6091\n",
            "INFO:flaml.automl: at 39.2s,\testimator xgboost's best error=0.6091,\tbest estimator xgboost's best error=0.6091\n",
            "[flaml.automl: 12-10 09:25:29] {3166} INFO - iteration 24, current learner xgboost\n",
            "INFO:flaml.automl:iteration 24, current learner xgboost\n",
            "[flaml.automl: 12-10 09:25:32] {3343} INFO -  at 41.4s,\testimator xgboost's best error=0.6091,\tbest estimator xgboost's best error=0.6091\n",
            "INFO:flaml.automl: at 41.4s,\testimator xgboost's best error=0.6091,\tbest estimator xgboost's best error=0.6091\n",
            "[flaml.automl: 12-10 09:25:32] {3166} INFO - iteration 25, current learner xgboost\n",
            "INFO:flaml.automl:iteration 25, current learner xgboost\n",
            "[flaml.automl: 12-10 09:25:32] {3343} INFO -  at 42.2s,\testimator xgboost's best error=0.6091,\tbest estimator xgboost's best error=0.6091\n",
            "INFO:flaml.automl: at 42.2s,\testimator xgboost's best error=0.6091,\tbest estimator xgboost's best error=0.6091\n",
            "[flaml.automl: 12-10 09:25:32] {3166} INFO - iteration 26, current learner xgboost\n",
            "INFO:flaml.automl:iteration 26, current learner xgboost\n",
            "[flaml.automl: 12-10 09:25:36] {3343} INFO -  at 45.7s,\testimator xgboost's best error=0.6091,\tbest estimator xgboost's best error=0.6091\n",
            "INFO:flaml.automl: at 45.7s,\testimator xgboost's best error=0.6091,\tbest estimator xgboost's best error=0.6091\n",
            "[flaml.automl: 12-10 09:25:36] {3166} INFO - iteration 27, current learner xgboost\n",
            "INFO:flaml.automl:iteration 27, current learner xgboost\n",
            "[flaml.automl: 12-10 09:25:38] {3343} INFO -  at 47.3s,\testimator xgboost's best error=0.6091,\tbest estimator xgboost's best error=0.6091\n",
            "INFO:flaml.automl: at 47.3s,\testimator xgboost's best error=0.6091,\tbest estimator xgboost's best error=0.6091\n",
            "[flaml.automl: 12-10 09:25:38] {3166} INFO - iteration 28, current learner xgboost\n",
            "INFO:flaml.automl:iteration 28, current learner xgboost\n",
            "[flaml.automl: 12-10 09:25:39] {3343} INFO -  at 49.0s,\testimator xgboost's best error=0.6091,\tbest estimator xgboost's best error=0.6091\n",
            "INFO:flaml.automl: at 49.0s,\testimator xgboost's best error=0.6091,\tbest estimator xgboost's best error=0.6091\n",
            "[flaml.automl: 12-10 09:25:39] {3166} INFO - iteration 29, current learner xgboost\n",
            "INFO:flaml.automl:iteration 29, current learner xgboost\n",
            "[flaml.automl: 12-10 09:25:40] {3343} INFO -  at 49.8s,\testimator xgboost's best error=0.6091,\tbest estimator xgboost's best error=0.6091\n",
            "INFO:flaml.automl: at 49.8s,\testimator xgboost's best error=0.6091,\tbest estimator xgboost's best error=0.6091\n",
            "[flaml.automl: 12-10 09:25:40] {3166} INFO - iteration 30, current learner xgboost\n",
            "INFO:flaml.automl:iteration 30, current learner xgboost\n",
            "[flaml.automl: 12-10 09:25:47] {3343} INFO -  at 56.5s,\testimator xgboost's best error=0.6091,\tbest estimator xgboost's best error=0.6091\n",
            "INFO:flaml.automl: at 56.5s,\testimator xgboost's best error=0.6091,\tbest estimator xgboost's best error=0.6091\n",
            "[flaml.automl: 12-10 09:25:47] {3166} INFO - iteration 31, current learner xgboost\n",
            "INFO:flaml.automl:iteration 31, current learner xgboost\n",
            "[flaml.automl: 12-10 09:25:49] {3343} INFO -  at 58.5s,\testimator xgboost's best error=0.6091,\tbest estimator xgboost's best error=0.6091\n",
            "INFO:flaml.automl: at 58.5s,\testimator xgboost's best error=0.6091,\tbest estimator xgboost's best error=0.6091\n",
            "[flaml.automl: 12-10 09:25:49] {3166} INFO - iteration 32, current learner xgboost\n",
            "INFO:flaml.automl:iteration 32, current learner xgboost\n",
            "[flaml.automl: 12-10 09:25:50] {3343} INFO -  at 60.0s,\testimator xgboost's best error=0.6091,\tbest estimator xgboost's best error=0.6091\n",
            "INFO:flaml.automl: at 60.0s,\testimator xgboost's best error=0.6091,\tbest estimator xgboost's best error=0.6091\n",
            "[flaml.automl: 12-10 09:25:50] {3166} INFO - iteration 33, current learner xgboost\n",
            "INFO:flaml.automl:iteration 33, current learner xgboost\n",
            "[flaml.automl: 12-10 09:25:52] {3343} INFO -  at 62.1s,\testimator xgboost's best error=0.6091,\tbest estimator xgboost's best error=0.6091\n",
            "INFO:flaml.automl: at 62.1s,\testimator xgboost's best error=0.6091,\tbest estimator xgboost's best error=0.6091\n",
            "[flaml.automl: 12-10 09:25:52] {3166} INFO - iteration 34, current learner xgboost\n",
            "INFO:flaml.automl:iteration 34, current learner xgboost\n",
            "[flaml.automl: 12-10 09:25:58] {3343} INFO -  at 68.1s,\testimator xgboost's best error=0.6091,\tbest estimator xgboost's best error=0.6091\n",
            "INFO:flaml.automl: at 68.1s,\testimator xgboost's best error=0.6091,\tbest estimator xgboost's best error=0.6091\n",
            "[flaml.automl: 12-10 09:25:58] {3166} INFO - iteration 35, current learner xgboost\n",
            "INFO:flaml.automl:iteration 35, current learner xgboost\n",
            "[flaml.automl: 12-10 09:26:05] {3343} INFO -  at 74.9s,\testimator xgboost's best error=0.5986,\tbest estimator xgboost's best error=0.5986\n",
            "INFO:flaml.automl: at 74.9s,\testimator xgboost's best error=0.5986,\tbest estimator xgboost's best error=0.5986\n",
            "[flaml.automl: 12-10 09:26:05] {3166} INFO - iteration 36, current learner xgboost\n",
            "INFO:flaml.automl:iteration 36, current learner xgboost\n",
            "[flaml.automl: 12-10 09:26:08] {3343} INFO -  at 77.8s,\testimator xgboost's best error=0.5986,\tbest estimator xgboost's best error=0.5986\n",
            "INFO:flaml.automl: at 77.8s,\testimator xgboost's best error=0.5986,\tbest estimator xgboost's best error=0.5986\n",
            "[flaml.automl: 12-10 09:26:08] {3166} INFO - iteration 37, current learner xgboost\n",
            "INFO:flaml.automl:iteration 37, current learner xgboost\n",
            "[flaml.automl: 12-10 09:26:14] {3343} INFO -  at 83.6s,\testimator xgboost's best error=0.5986,\tbest estimator xgboost's best error=0.5986\n",
            "INFO:flaml.automl: at 83.6s,\testimator xgboost's best error=0.5986,\tbest estimator xgboost's best error=0.5986\n",
            "[flaml.automl: 12-10 09:26:14] {3166} INFO - iteration 38, current learner xgboost\n",
            "INFO:flaml.automl:iteration 38, current learner xgboost\n",
            "[flaml.automl: 12-10 09:26:18] {3343} INFO -  at 87.3s,\testimator xgboost's best error=0.5986,\tbest estimator xgboost's best error=0.5986\n",
            "INFO:flaml.automl: at 87.3s,\testimator xgboost's best error=0.5986,\tbest estimator xgboost's best error=0.5986\n",
            "[flaml.automl: 12-10 09:26:18] {3166} INFO - iteration 39, current learner xgboost\n",
            "INFO:flaml.automl:iteration 39, current learner xgboost\n",
            "[flaml.automl: 12-10 09:26:28] {3343} INFO -  at 98.2s,\testimator xgboost's best error=0.5986,\tbest estimator xgboost's best error=0.5986\n",
            "INFO:flaml.automl: at 98.2s,\testimator xgboost's best error=0.5986,\tbest estimator xgboost's best error=0.5986\n",
            "[flaml.automl: 12-10 09:26:28] {3166} INFO - iteration 40, current learner xgboost\n",
            "INFO:flaml.automl:iteration 40, current learner xgboost\n",
            "[flaml.automl: 12-10 09:26:30] {3343} INFO -  at 100.0s,\testimator xgboost's best error=0.5986,\tbest estimator xgboost's best error=0.5986\n",
            "INFO:flaml.automl: at 100.0s,\testimator xgboost's best error=0.5986,\tbest estimator xgboost's best error=0.5986\n",
            "[flaml.automl: 12-10 09:26:30] {3166} INFO - iteration 41, current learner xgboost\n",
            "INFO:flaml.automl:iteration 41, current learner xgboost\n",
            "[flaml.automl: 12-10 09:26:36] {3343} INFO -  at 105.5s,\testimator xgboost's best error=0.5986,\tbest estimator xgboost's best error=0.5986\n",
            "INFO:flaml.automl: at 105.5s,\testimator xgboost's best error=0.5986,\tbest estimator xgboost's best error=0.5986\n",
            "[flaml.automl: 12-10 09:26:36] {3166} INFO - iteration 42, current learner xgboost\n",
            "INFO:flaml.automl:iteration 42, current learner xgboost\n",
            "[flaml.automl: 12-10 09:26:48] {3343} INFO -  at 117.8s,\testimator xgboost's best error=0.5986,\tbest estimator xgboost's best error=0.5986\n",
            "INFO:flaml.automl: at 117.8s,\testimator xgboost's best error=0.5986,\tbest estimator xgboost's best error=0.5986\n",
            "[flaml.automl: 12-10 09:26:48] {3166} INFO - iteration 43, current learner xgboost\n",
            "INFO:flaml.automl:iteration 43, current learner xgboost\n",
            "[flaml.automl: 12-10 09:26:52] {3343} INFO -  at 121.3s,\testimator xgboost's best error=0.5986,\tbest estimator xgboost's best error=0.5986\n",
            "INFO:flaml.automl: at 121.3s,\testimator xgboost's best error=0.5986,\tbest estimator xgboost's best error=0.5986\n",
            "[flaml.automl: 12-10 09:26:52] {3166} INFO - iteration 44, current learner xgboost\n",
            "INFO:flaml.automl:iteration 44, current learner xgboost\n",
            "[flaml.automl: 12-10 09:26:55] {3343} INFO -  at 124.7s,\testimator xgboost's best error=0.5986,\tbest estimator xgboost's best error=0.5986\n",
            "INFO:flaml.automl: at 124.7s,\testimator xgboost's best error=0.5986,\tbest estimator xgboost's best error=0.5986\n",
            "[flaml.automl: 12-10 09:26:55] {3166} INFO - iteration 45, current learner xgboost\n",
            "INFO:flaml.automl:iteration 45, current learner xgboost\n",
            "[flaml.automl: 12-10 09:26:59] {3343} INFO -  at 128.4s,\testimator xgboost's best error=0.5986,\tbest estimator xgboost's best error=0.5986\n",
            "INFO:flaml.automl: at 128.4s,\testimator xgboost's best error=0.5986,\tbest estimator xgboost's best error=0.5986\n",
            "[flaml.automl: 12-10 09:26:59] {3166} INFO - iteration 46, current learner xgboost\n",
            "INFO:flaml.automl:iteration 46, current learner xgboost\n",
            "[flaml.automl: 12-10 09:27:05] {3343} INFO -  at 134.5s,\testimator xgboost's best error=0.5986,\tbest estimator xgboost's best error=0.5986\n",
            "INFO:flaml.automl: at 134.5s,\testimator xgboost's best error=0.5986,\tbest estimator xgboost's best error=0.5986\n",
            "[flaml.automl: 12-10 09:27:05] {3166} INFO - iteration 47, current learner xgboost\n",
            "INFO:flaml.automl:iteration 47, current learner xgboost\n",
            "[flaml.automl: 12-10 09:27:07] {3343} INFO -  at 136.5s,\testimator xgboost's best error=0.5986,\tbest estimator xgboost's best error=0.5986\n",
            "INFO:flaml.automl: at 136.5s,\testimator xgboost's best error=0.5986,\tbest estimator xgboost's best error=0.5986\n",
            "[flaml.automl: 12-10 09:27:07] {3166} INFO - iteration 48, current learner xgboost\n",
            "INFO:flaml.automl:iteration 48, current learner xgboost\n",
            "[flaml.automl: 12-10 09:27:14] {3343} INFO -  at 143.8s,\testimator xgboost's best error=0.4674,\tbest estimator xgboost's best error=0.4674\n",
            "INFO:flaml.automl: at 143.8s,\testimator xgboost's best error=0.4674,\tbest estimator xgboost's best error=0.4674\n",
            "[flaml.automl: 12-10 09:27:14] {3166} INFO - iteration 49, current learner xgboost\n",
            "INFO:flaml.automl:iteration 49, current learner xgboost\n",
            "[flaml.automl: 12-10 09:27:27] {3343} INFO -  at 156.3s,\testimator xgboost's best error=0.4674,\tbest estimator xgboost's best error=0.4674\n",
            "INFO:flaml.automl: at 156.3s,\testimator xgboost's best error=0.4674,\tbest estimator xgboost's best error=0.4674\n",
            "[flaml.automl: 12-10 09:27:27] {3166} INFO - iteration 50, current learner xgboost\n",
            "INFO:flaml.automl:iteration 50, current learner xgboost\n",
            "[flaml.automl: 12-10 09:27:32] {3343} INFO -  at 161.3s,\testimator xgboost's best error=0.4674,\tbest estimator xgboost's best error=0.4674\n",
            "INFO:flaml.automl: at 161.3s,\testimator xgboost's best error=0.4674,\tbest estimator xgboost's best error=0.4674\n",
            "[flaml.automl: 12-10 09:27:32] {3166} INFO - iteration 51, current learner xgboost\n",
            "INFO:flaml.automl:iteration 51, current learner xgboost\n",
            "[flaml.automl: 12-10 09:27:42] {3343} INFO -  at 171.4s,\testimator xgboost's best error=0.4674,\tbest estimator xgboost's best error=0.4674\n",
            "INFO:flaml.automl: at 171.4s,\testimator xgboost's best error=0.4674,\tbest estimator xgboost's best error=0.4674\n",
            "[flaml.automl: 12-10 09:27:42] {3166} INFO - iteration 52, current learner xgboost\n",
            "INFO:flaml.automl:iteration 52, current learner xgboost\n",
            "[flaml.automl: 12-10 09:27:46] {3343} INFO -  at 175.9s,\testimator xgboost's best error=0.4674,\tbest estimator xgboost's best error=0.4674\n",
            "INFO:flaml.automl: at 175.9s,\testimator xgboost's best error=0.4674,\tbest estimator xgboost's best error=0.4674\n",
            "[flaml.automl: 12-10 09:27:46] {3166} INFO - iteration 53, current learner xgboost\n",
            "INFO:flaml.automl:iteration 53, current learner xgboost\n",
            "[flaml.automl: 12-10 09:27:57] {3343} INFO -  at 186.5s,\testimator xgboost's best error=0.4674,\tbest estimator xgboost's best error=0.4674\n",
            "INFO:flaml.automl: at 186.5s,\testimator xgboost's best error=0.4674,\tbest estimator xgboost's best error=0.4674\n",
            "[flaml.automl: 12-10 09:27:57] {3166} INFO - iteration 54, current learner xgboost\n",
            "INFO:flaml.automl:iteration 54, current learner xgboost\n",
            "[flaml.automl: 12-10 09:28:03] {3343} INFO -  at 193.1s,\testimator xgboost's best error=0.4674,\tbest estimator xgboost's best error=0.4674\n",
            "INFO:flaml.automl: at 193.1s,\testimator xgboost's best error=0.4674,\tbest estimator xgboost's best error=0.4674\n",
            "[flaml.automl: 12-10 09:28:03] {3166} INFO - iteration 55, current learner xgboost\n",
            "INFO:flaml.automl:iteration 55, current learner xgboost\n",
            "[flaml.automl: 12-10 09:28:11] {3343} INFO -  at 201.1s,\testimator xgboost's best error=0.4674,\tbest estimator xgboost's best error=0.4674\n",
            "INFO:flaml.automl: at 201.1s,\testimator xgboost's best error=0.4674,\tbest estimator xgboost's best error=0.4674\n",
            "[flaml.automl: 12-10 09:28:11] {3166} INFO - iteration 56, current learner xgboost\n",
            "INFO:flaml.automl:iteration 56, current learner xgboost\n",
            "[flaml.automl: 12-10 09:28:18] {3343} INFO -  at 207.8s,\testimator xgboost's best error=0.4674,\tbest estimator xgboost's best error=0.4674\n",
            "INFO:flaml.automl: at 207.8s,\testimator xgboost's best error=0.4674,\tbest estimator xgboost's best error=0.4674\n",
            "[flaml.automl: 12-10 09:28:18] {3166} INFO - iteration 57, current learner xgboost\n",
            "INFO:flaml.automl:iteration 57, current learner xgboost\n",
            "[flaml.automl: 12-10 09:28:35] {3343} INFO -  at 224.7s,\testimator xgboost's best error=0.4674,\tbest estimator xgboost's best error=0.4674\n",
            "INFO:flaml.automl: at 224.7s,\testimator xgboost's best error=0.4674,\tbest estimator xgboost's best error=0.4674\n",
            "[flaml.automl: 12-10 09:28:35] {3166} INFO - iteration 58, current learner xgboost\n",
            "INFO:flaml.automl:iteration 58, current learner xgboost\n",
            "[flaml.automl: 12-10 09:28:38] {3343} INFO -  at 227.9s,\testimator xgboost's best error=0.4674,\tbest estimator xgboost's best error=0.4674\n",
            "INFO:flaml.automl: at 227.9s,\testimator xgboost's best error=0.4674,\tbest estimator xgboost's best error=0.4674\n",
            "[flaml.automl: 12-10 09:28:38] {3166} INFO - iteration 59, current learner xgboost\n",
            "INFO:flaml.automl:iteration 59, current learner xgboost\n",
            "[flaml.automl: 12-10 09:28:43] {3343} INFO -  at 232.8s,\testimator xgboost's best error=0.4674,\tbest estimator xgboost's best error=0.4674\n",
            "INFO:flaml.automl: at 232.8s,\testimator xgboost's best error=0.4674,\tbest estimator xgboost's best error=0.4674\n",
            "[flaml.automl: 12-10 09:28:43] {3166} INFO - iteration 60, current learner xgboost\n",
            "INFO:flaml.automl:iteration 60, current learner xgboost\n",
            "[flaml.automl: 12-10 09:28:53] {3343} INFO -  at 242.3s,\testimator xgboost's best error=0.4674,\tbest estimator xgboost's best error=0.4674\n",
            "INFO:flaml.automl: at 242.3s,\testimator xgboost's best error=0.4674,\tbest estimator xgboost's best error=0.4674\n",
            "[flaml.automl: 12-10 09:28:53] {3166} INFO - iteration 61, current learner xgboost\n",
            "INFO:flaml.automl:iteration 61, current learner xgboost\n",
            "[flaml.automl: 12-10 09:29:06] {3343} INFO -  at 255.4s,\testimator xgboost's best error=0.4674,\tbest estimator xgboost's best error=0.4674\n",
            "INFO:flaml.automl: at 255.4s,\testimator xgboost's best error=0.4674,\tbest estimator xgboost's best error=0.4674\n",
            "[flaml.automl: 12-10 09:29:06] {3166} INFO - iteration 62, current learner xgboost\n",
            "INFO:flaml.automl:iteration 62, current learner xgboost\n",
            "[flaml.automl: 12-10 09:29:11] {3343} INFO -  at 261.1s,\testimator xgboost's best error=0.4674,\tbest estimator xgboost's best error=0.4674\n",
            "INFO:flaml.automl: at 261.1s,\testimator xgboost's best error=0.4674,\tbest estimator xgboost's best error=0.4674\n",
            "[flaml.automl: 12-10 09:29:11] {3166} INFO - iteration 63, current learner xgboost\n",
            "INFO:flaml.automl:iteration 63, current learner xgboost\n",
            "[flaml.automl: 12-10 09:29:17] {3343} INFO -  at 267.2s,\testimator xgboost's best error=0.4674,\tbest estimator xgboost's best error=0.4674\n",
            "INFO:flaml.automl: at 267.2s,\testimator xgboost's best error=0.4674,\tbest estimator xgboost's best error=0.4674\n",
            "[flaml.automl: 12-10 09:29:17] {3166} INFO - iteration 64, current learner xgboost\n",
            "INFO:flaml.automl:iteration 64, current learner xgboost\n",
            "[flaml.automl: 12-10 09:29:26] {3343} INFO -  at 275.7s,\testimator xgboost's best error=0.4674,\tbest estimator xgboost's best error=0.4674\n",
            "INFO:flaml.automl: at 275.7s,\testimator xgboost's best error=0.4674,\tbest estimator xgboost's best error=0.4674\n",
            "[flaml.automl: 12-10 09:29:26] {3166} INFO - iteration 65, current learner xgboost\n",
            "INFO:flaml.automl:iteration 65, current learner xgboost\n",
            "[flaml.automl: 12-10 09:29:28] {3343} INFO -  at 278.2s,\testimator xgboost's best error=0.4674,\tbest estimator xgboost's best error=0.4674\n",
            "INFO:flaml.automl: at 278.2s,\testimator xgboost's best error=0.4674,\tbest estimator xgboost's best error=0.4674\n",
            "[flaml.automl: 12-10 09:29:28] {3166} INFO - iteration 66, current learner xgboost\n",
            "INFO:flaml.automl:iteration 66, current learner xgboost\n",
            "[flaml.automl: 12-10 09:29:33] {3343} INFO -  at 282.6s,\testimator xgboost's best error=0.4674,\tbest estimator xgboost's best error=0.4674\n",
            "INFO:flaml.automl: at 282.6s,\testimator xgboost's best error=0.4674,\tbest estimator xgboost's best error=0.4674\n",
            "[flaml.automl: 12-10 09:29:33] {3166} INFO - iteration 67, current learner xgboost\n",
            "INFO:flaml.automl:iteration 67, current learner xgboost\n",
            "[flaml.automl: 12-10 09:29:45] {3343} INFO -  at 294.3s,\testimator xgboost's best error=0.4674,\tbest estimator xgboost's best error=0.4674\n",
            "INFO:flaml.automl: at 294.3s,\testimator xgboost's best error=0.4674,\tbest estimator xgboost's best error=0.4674\n",
            "[flaml.automl: 12-10 09:29:45] {3166} INFO - iteration 68, current learner xgboost\n",
            "INFO:flaml.automl:iteration 68, current learner xgboost\n",
            "[flaml.automl: 12-10 09:29:50] {3343} INFO -  at 299.6s,\testimator xgboost's best error=0.4674,\tbest estimator xgboost's best error=0.4674\n",
            "INFO:flaml.automl: at 299.6s,\testimator xgboost's best error=0.4674,\tbest estimator xgboost's best error=0.4674\n",
            "[flaml.automl: 12-10 09:29:50] {3166} INFO - iteration 69, current learner xgboost\n",
            "INFO:flaml.automl:iteration 69, current learner xgboost\n",
            "[flaml.automl: 12-10 09:30:10] {3343} INFO -  at 319.9s,\testimator xgboost's best error=0.4674,\tbest estimator xgboost's best error=0.4674\n",
            "INFO:flaml.automl: at 319.9s,\testimator xgboost's best error=0.4674,\tbest estimator xgboost's best error=0.4674\n",
            "[flaml.automl: 12-10 09:30:10] {3166} INFO - iteration 70, current learner xgboost\n",
            "INFO:flaml.automl:iteration 70, current learner xgboost\n",
            "[flaml.automl: 12-10 09:30:14] {3343} INFO -  at 323.3s,\testimator xgboost's best error=0.4674,\tbest estimator xgboost's best error=0.4674\n",
            "INFO:flaml.automl: at 323.3s,\testimator xgboost's best error=0.4674,\tbest estimator xgboost's best error=0.4674\n",
            "[flaml.automl: 12-10 09:30:14] {3166} INFO - iteration 71, current learner xgboost\n",
            "INFO:flaml.automl:iteration 71, current learner xgboost\n",
            "[flaml.automl: 12-10 09:30:23] {3343} INFO -  at 332.9s,\testimator xgboost's best error=0.4674,\tbest estimator xgboost's best error=0.4674\n",
            "INFO:flaml.automl: at 332.9s,\testimator xgboost's best error=0.4674,\tbest estimator xgboost's best error=0.4674\n",
            "[flaml.automl: 12-10 09:30:23] {3166} INFO - iteration 72, current learner xgboost\n",
            "INFO:flaml.automl:iteration 72, current learner xgboost\n",
            "[flaml.automl: 12-10 09:30:29] {3343} INFO -  at 338.9s,\testimator xgboost's best error=0.4674,\tbest estimator xgboost's best error=0.4674\n",
            "INFO:flaml.automl: at 338.9s,\testimator xgboost's best error=0.4674,\tbest estimator xgboost's best error=0.4674\n",
            "[flaml.automl: 12-10 09:30:29] {3166} INFO - iteration 73, current learner xgboost\n",
            "INFO:flaml.automl:iteration 73, current learner xgboost\n",
            "[flaml.automl: 12-10 09:30:35] {3343} INFO -  at 344.5s,\testimator xgboost's best error=0.4674,\tbest estimator xgboost's best error=0.4674\n",
            "INFO:flaml.automl: at 344.5s,\testimator xgboost's best error=0.4674,\tbest estimator xgboost's best error=0.4674\n",
            "[flaml.automl: 12-10 09:30:35] {3166} INFO - iteration 74, current learner xgboost\n",
            "INFO:flaml.automl:iteration 74, current learner xgboost\n",
            "[flaml.automl: 12-10 09:30:48] {3343} INFO -  at 357.3s,\testimator xgboost's best error=0.4674,\tbest estimator xgboost's best error=0.4674\n",
            "INFO:flaml.automl: at 357.3s,\testimator xgboost's best error=0.4674,\tbest estimator xgboost's best error=0.4674\n",
            "[flaml.automl: 12-10 09:30:48] {3166} INFO - iteration 75, current learner xgboost\n",
            "INFO:flaml.automl:iteration 75, current learner xgboost\n",
            "[flaml.automl: 12-10 09:30:56] {3343} INFO -  at 365.4s,\testimator xgboost's best error=0.4674,\tbest estimator xgboost's best error=0.4674\n",
            "INFO:flaml.automl: at 365.4s,\testimator xgboost's best error=0.4674,\tbest estimator xgboost's best error=0.4674\n",
            "[flaml.automl: 12-10 09:30:56] {3166} INFO - iteration 76, current learner xgboost\n",
            "INFO:flaml.automl:iteration 76, current learner xgboost\n",
            "[flaml.automl: 12-10 09:31:01] {3343} INFO -  at 371.2s,\testimator xgboost's best error=0.4674,\tbest estimator xgboost's best error=0.4674\n",
            "INFO:flaml.automl: at 371.2s,\testimator xgboost's best error=0.4674,\tbest estimator xgboost's best error=0.4674\n",
            "[flaml.automl: 12-10 09:31:01] {3166} INFO - iteration 77, current learner xgboost\n",
            "INFO:flaml.automl:iteration 77, current learner xgboost\n",
            "[flaml.automl: 12-10 09:31:11] {3343} INFO -  at 380.5s,\testimator xgboost's best error=0.4674,\tbest estimator xgboost's best error=0.4674\n",
            "INFO:flaml.automl: at 380.5s,\testimator xgboost's best error=0.4674,\tbest estimator xgboost's best error=0.4674\n",
            "[flaml.automl: 12-10 09:31:11] {3166} INFO - iteration 78, current learner xgboost\n",
            "INFO:flaml.automl:iteration 78, current learner xgboost\n",
            "[flaml.automl: 12-10 09:31:17] {3343} INFO -  at 386.8s,\testimator xgboost's best error=0.4674,\tbest estimator xgboost's best error=0.4674\n",
            "INFO:flaml.automl: at 386.8s,\testimator xgboost's best error=0.4674,\tbest estimator xgboost's best error=0.4674\n",
            "[flaml.automl: 12-10 09:31:17] {3166} INFO - iteration 79, current learner xgboost\n",
            "INFO:flaml.automl:iteration 79, current learner xgboost\n",
            "[flaml.automl: 12-10 09:31:30] {3343} INFO -  at 399.7s,\testimator xgboost's best error=0.4674,\tbest estimator xgboost's best error=0.4674\n",
            "INFO:flaml.automl: at 399.7s,\testimator xgboost's best error=0.4674,\tbest estimator xgboost's best error=0.4674\n",
            "[flaml.automl: 12-10 09:31:30] {3166} INFO - iteration 80, current learner xgboost\n",
            "INFO:flaml.automl:iteration 80, current learner xgboost\n",
            "[flaml.automl: 12-10 09:31:34] {3343} INFO -  at 404.2s,\testimator xgboost's best error=0.4674,\tbest estimator xgboost's best error=0.4674\n",
            "INFO:flaml.automl: at 404.2s,\testimator xgboost's best error=0.4674,\tbest estimator xgboost's best error=0.4674\n",
            "[flaml.automl: 12-10 09:31:34] {3166} INFO - iteration 81, current learner xgboost\n",
            "INFO:flaml.automl:iteration 81, current learner xgboost\n",
            "[flaml.automl: 12-10 09:31:41] {3343} INFO -  at 410.5s,\testimator xgboost's best error=0.4674,\tbest estimator xgboost's best error=0.4674\n",
            "INFO:flaml.automl: at 410.5s,\testimator xgboost's best error=0.4674,\tbest estimator xgboost's best error=0.4674\n",
            "[flaml.automl: 12-10 09:31:41] {3166} INFO - iteration 82, current learner xgboost\n",
            "INFO:flaml.automl:iteration 82, current learner xgboost\n",
            "[flaml.automl: 12-10 09:31:53] {3343} INFO -  at 422.5s,\testimator xgboost's best error=0.4674,\tbest estimator xgboost's best error=0.4674\n",
            "INFO:flaml.automl: at 422.5s,\testimator xgboost's best error=0.4674,\tbest estimator xgboost's best error=0.4674\n",
            "[flaml.automl: 12-10 09:31:53] {3166} INFO - iteration 83, current learner xgboost\n",
            "INFO:flaml.automl:iteration 83, current learner xgboost\n",
            "[flaml.automl: 12-10 09:32:06] {3343} INFO -  at 435.4s,\testimator xgboost's best error=0.4674,\tbest estimator xgboost's best error=0.4674\n",
            "INFO:flaml.automl: at 435.4s,\testimator xgboost's best error=0.4674,\tbest estimator xgboost's best error=0.4674\n",
            "[flaml.automl: 12-10 09:32:06] {3166} INFO - iteration 84, current learner xgboost\n",
            "INFO:flaml.automl:iteration 84, current learner xgboost\n",
            "[flaml.automl: 12-10 09:32:09] {3343} INFO -  at 439.2s,\testimator xgboost's best error=0.4674,\tbest estimator xgboost's best error=0.4674\n",
            "INFO:flaml.automl: at 439.2s,\testimator xgboost's best error=0.4674,\tbest estimator xgboost's best error=0.4674\n",
            "[flaml.automl: 12-10 09:32:09] {3166} INFO - iteration 85, current learner xgboost\n",
            "INFO:flaml.automl:iteration 85, current learner xgboost\n",
            "[flaml.automl: 12-10 09:32:14] {3343} INFO -  at 443.9s,\testimator xgboost's best error=0.4674,\tbest estimator xgboost's best error=0.4674\n",
            "INFO:flaml.automl: at 443.9s,\testimator xgboost's best error=0.4674,\tbest estimator xgboost's best error=0.4674\n",
            "[flaml.automl: 12-10 09:32:14] {3166} INFO - iteration 86, current learner xgboost\n",
            "INFO:flaml.automl:iteration 86, current learner xgboost\n",
            "[flaml.automl: 12-10 09:32:22] {3343} INFO -  at 451.6s,\testimator xgboost's best error=0.4674,\tbest estimator xgboost's best error=0.4674\n",
            "INFO:flaml.automl: at 451.6s,\testimator xgboost's best error=0.4674,\tbest estimator xgboost's best error=0.4674\n",
            "[flaml.automl: 12-10 09:32:22] {3166} INFO - iteration 87, current learner xgboost\n",
            "INFO:flaml.automl:iteration 87, current learner xgboost\n",
            "[flaml.automl: 12-10 09:32:30] {3343} INFO -  at 459.7s,\testimator xgboost's best error=0.4674,\tbest estimator xgboost's best error=0.4674\n",
            "INFO:flaml.automl: at 459.7s,\testimator xgboost's best error=0.4674,\tbest estimator xgboost's best error=0.4674\n",
            "[flaml.automl: 12-10 09:32:30] {3166} INFO - iteration 88, current learner xgboost\n",
            "INFO:flaml.automl:iteration 88, current learner xgboost\n",
            "[flaml.automl: 12-10 09:32:36] {3343} INFO -  at 465.5s,\testimator xgboost's best error=0.4674,\tbest estimator xgboost's best error=0.4674\n",
            "INFO:flaml.automl: at 465.5s,\testimator xgboost's best error=0.4674,\tbest estimator xgboost's best error=0.4674\n",
            "[flaml.automl: 12-10 09:32:36] {3166} INFO - iteration 89, current learner xgboost\n",
            "INFO:flaml.automl:iteration 89, current learner xgboost\n",
            "[flaml.automl: 12-10 09:32:46] {3343} INFO -  at 476.0s,\testimator xgboost's best error=0.4674,\tbest estimator xgboost's best error=0.4674\n",
            "INFO:flaml.automl: at 476.0s,\testimator xgboost's best error=0.4674,\tbest estimator xgboost's best error=0.4674\n",
            "[flaml.automl: 12-10 09:32:46] {3166} INFO - iteration 90, current learner xgboost\n",
            "INFO:flaml.automl:iteration 90, current learner xgboost\n",
            "[flaml.automl: 12-10 09:32:51] {3343} INFO -  at 481.1s,\testimator xgboost's best error=0.4674,\tbest estimator xgboost's best error=0.4674\n",
            "INFO:flaml.automl: at 481.1s,\testimator xgboost's best error=0.4674,\tbest estimator xgboost's best error=0.4674\n",
            "[flaml.automl: 12-10 09:32:51] {3166} INFO - iteration 91, current learner xgboost\n",
            "INFO:flaml.automl:iteration 91, current learner xgboost\n",
            "[flaml.automl: 12-10 09:32:57] {3343} INFO -  at 486.9s,\testimator xgboost's best error=0.4674,\tbest estimator xgboost's best error=0.4674\n",
            "INFO:flaml.automl: at 486.9s,\testimator xgboost's best error=0.4674,\tbest estimator xgboost's best error=0.4674\n",
            "[flaml.automl: 12-10 09:32:57] {3166} INFO - iteration 92, current learner xgboost\n",
            "INFO:flaml.automl:iteration 92, current learner xgboost\n",
            "[flaml.automl: 12-10 09:33:05] {3343} INFO -  at 494.3s,\testimator xgboost's best error=0.4674,\tbest estimator xgboost's best error=0.4674\n",
            "INFO:flaml.automl: at 494.3s,\testimator xgboost's best error=0.4674,\tbest estimator xgboost's best error=0.4674\n",
            "[flaml.automl: 12-10 09:33:05] {3166} INFO - iteration 93, current learner xgboost\n",
            "INFO:flaml.automl:iteration 93, current learner xgboost\n",
            "[flaml.automl: 12-10 09:33:08] {3343} INFO -  at 497.9s,\testimator xgboost's best error=0.4674,\tbest estimator xgboost's best error=0.4674\n",
            "INFO:flaml.automl: at 497.9s,\testimator xgboost's best error=0.4674,\tbest estimator xgboost's best error=0.4674\n",
            "[flaml.automl: 12-10 09:33:08] {3166} INFO - iteration 94, current learner xgboost\n",
            "INFO:flaml.automl:iteration 94, current learner xgboost\n",
            "[flaml.automl: 12-10 09:33:21] {3343} INFO -  at 510.5s,\testimator xgboost's best error=0.4674,\tbest estimator xgboost's best error=0.4674\n",
            "INFO:flaml.automl: at 510.5s,\testimator xgboost's best error=0.4674,\tbest estimator xgboost's best error=0.4674\n",
            "[flaml.automl: 12-10 09:33:21] {3166} INFO - iteration 95, current learner xgboost\n",
            "INFO:flaml.automl:iteration 95, current learner xgboost\n",
            "[flaml.automl: 12-10 09:33:35] {3343} INFO -  at 524.3s,\testimator xgboost's best error=0.4674,\tbest estimator xgboost's best error=0.4674\n",
            "INFO:flaml.automl: at 524.3s,\testimator xgboost's best error=0.4674,\tbest estimator xgboost's best error=0.4674\n",
            "[flaml.automl: 12-10 09:33:35] {3166} INFO - iteration 96, current learner xgboost\n",
            "INFO:flaml.automl:iteration 96, current learner xgboost\n",
            "[flaml.automl: 12-10 09:33:39] {3343} INFO -  at 528.9s,\testimator xgboost's best error=0.4674,\tbest estimator xgboost's best error=0.4674\n",
            "INFO:flaml.automl: at 528.9s,\testimator xgboost's best error=0.4674,\tbest estimator xgboost's best error=0.4674\n",
            "[flaml.automl: 12-10 09:33:39] {3166} INFO - iteration 97, current learner xgboost\n",
            "INFO:flaml.automl:iteration 97, current learner xgboost\n",
            "[flaml.automl: 12-10 09:33:45] {3343} INFO -  at 534.3s,\testimator xgboost's best error=0.4674,\tbest estimator xgboost's best error=0.4674\n",
            "INFO:flaml.automl: at 534.3s,\testimator xgboost's best error=0.4674,\tbest estimator xgboost's best error=0.4674\n",
            "[flaml.automl: 12-10 09:33:45] {3166} INFO - iteration 98, current learner xgboost\n",
            "INFO:flaml.automl:iteration 98, current learner xgboost\n",
            "[flaml.automl: 12-10 09:33:55] {3343} INFO -  at 544.5s,\testimator xgboost's best error=0.4674,\tbest estimator xgboost's best error=0.4674\n",
            "INFO:flaml.automl: at 544.5s,\testimator xgboost's best error=0.4674,\tbest estimator xgboost's best error=0.4674\n",
            "[flaml.automl: 12-10 09:33:55] {3166} INFO - iteration 99, current learner xgboost\n",
            "INFO:flaml.automl:iteration 99, current learner xgboost\n",
            "[flaml.automl: 12-10 09:34:20] {3343} INFO -  at 570.1s,\testimator xgboost's best error=0.4427,\tbest estimator xgboost's best error=0.4427\n",
            "INFO:flaml.automl: at 570.1s,\testimator xgboost's best error=0.4427,\tbest estimator xgboost's best error=0.4427\n",
            "[flaml.automl: 12-10 09:34:20] {3166} INFO - iteration 100, current learner xgboost\n",
            "INFO:flaml.automl:iteration 100, current learner xgboost\n",
            "[flaml.automl: 12-10 09:34:28] {3343} INFO -  at 577.6s,\testimator xgboost's best error=0.4427,\tbest estimator xgboost's best error=0.4427\n",
            "INFO:flaml.automl: at 577.6s,\testimator xgboost's best error=0.4427,\tbest estimator xgboost's best error=0.4427\n",
            "[flaml.automl: 12-10 09:34:28] {3459} INFO - selected model: XGBClassifier(colsample_bylevel=0.9552519196732774,\n",
            "              colsample_bytree=0.59966396146536, grow_policy='lossguide',\n",
            "              learning_rate=0.14056132292413046, max_depth=0, max_leaves=37,\n",
            "              min_child_weight=4.997576088476873, n_estimators=783, n_jobs=-1,\n",
            "              objective='multi:softprob', reg_alpha=0.004154691418482314,\n",
            "              reg_lambda=0.032047205998946636, subsample=0.9552043034283072,\n",
            "              tree_method='hist', use_label_encoder=False, verbosity=0)\n",
            "INFO:flaml.automl:selected model: XGBClassifier(colsample_bylevel=0.9552519196732774,\n",
            "              colsample_bytree=0.59966396146536, grow_policy='lossguide',\n",
            "              learning_rate=0.14056132292413046, max_depth=0, max_leaves=37,\n",
            "              min_child_weight=4.997576088476873, n_estimators=783, n_jobs=-1,\n",
            "              objective='multi:softprob', reg_alpha=0.004154691418482314,\n",
            "              reg_lambda=0.032047205998946636, subsample=0.9552043034283072,\n",
            "              tree_method='hist', use_label_encoder=False, verbosity=0)\n",
            "[flaml.automl: 12-10 09:34:28] {2901} INFO - fit succeeded\n",
            "INFO:flaml.automl:fit succeeded\n",
            "[flaml.automl: 12-10 09:34:28] {2902} INFO - Time taken to find the best model: 570.0633354187012\n",
            "INFO:flaml.automl:Time taken to find the best model: 570.0633354187012\n",
            "[flaml.automl: 12-10 09:34:28] {2913} WARNING - Time taken to find the best model is 95% of the provided time budget and not all estimators' hyperparameter search converged. Consider increasing the time budget.\n",
            "WARNING:flaml.automl:Time taken to find the best model is 95% of the provided time budget and not all estimators' hyperparameter search converged. Consider increasing the time budget.\n"
          ]
        }
      ],
      "source": [
        "automl.fit(X_resampled_train, y_resampled_train, \n",
        "          task=\"classification\", \n",
        "          X_val=X_resampled_test, y_val=y_resampled_test, \n",
        "          time_budget=60*10, \n",
        "          log_file_name='.segment_automl_baseline2_10m.log', \n",
        "          estimator_list=[\"xgboost\"])"
      ]
    },
    {
      "cell_type": "code",
      "execution_count": 32,
      "metadata": {
        "id": "CSNxrh8F3c6V"
      },
      "outputs": [],
      "source": [
        "# 모델 저징\n",
        "'''pickle and save the automl object'''\n",
        "import pickle\n",
        "with open('/content/gdrive/MyDrive/Colab Notebooks/4-2/AIFT/automl_flaml_xgboost.pkl', 'wb') as f:\n",
        "    pickle.dump(automl, f, pickle.HIGHEST_PROTOCOL)\n",
        "'''load pickled automl object'''\n",
        "with open('/content/gdrive/MyDrive/Colab Notebooks/4-2/AIFT/automl_flaml_xgboost.pkl', 'rb') as f:\n",
        "    automl = pickle.load(f)"
      ]
    },
    {
      "cell_type": "code",
      "execution_count": 34,
      "metadata": {
        "colab": {
          "base_uri": "https://localhost:8080/"
        },
        "id": "JCv7FnlZ3mX8",
        "outputId": "1c3f30c5-80e9-4ec9-fc88-a73e6f499554"
      },
      "outputs": [
        {
          "name": "stdout",
          "output_type": "stream",
          "text": [
            "Best ML leaner: xgboost\n",
            "Best hyperparmeter config: {'n_estimators': 783, 'max_leaves': 37, 'min_child_weight': 4.997576088476873, 'learning_rate': 0.14056132292413046, 'subsample': 0.9552043034283072, 'colsample_bylevel': 0.9552519196732774, 'colsample_bytree': 0.59966396146536, 'reg_alpha': 0.004154691418482314, 'reg_lambda': 0.032047205998946636}\n",
            "Best loss on validation data: 0.4427\n",
            "Training duration of best run: 25.52 s\n"
          ]
        }
      ],
      "source": [
        "'''retrieve best config and best learner'''\n",
        "print('Best ML leaner:', automl.best_estimator)\n",
        "print('Best hyperparmeter config:', automl.best_config)\n",
        "print('Best loss on validation data: {0:.4g}'.format(automl.best_loss))\n",
        "print('Training duration of best run: {0:.4g} s'.format(automl.best_config_train_time))\n"
      ]
    },
    {
      "cell_type": "code",
      "execution_count": 35,
      "metadata": {
        "id": "M9niNUzB5jgg"
      },
      "outputs": [],
      "source": [
        "'''compute predictions of testing dataset''' \n",
        "y_pred = automl.predict(X_test)\n",
        "# print('Predicted labels', y_pred)\n",
        "# print('True labels', y_test)\n",
        "y_pred_proba = automl.predict_proba(X_test)"
      ]
    },
    {
      "cell_type": "code",
      "execution_count": 36,
      "metadata": {
        "colab": {
          "base_uri": "https://localhost:8080/"
        },
        "id": "GrNetz2j5mYe",
        "outputId": "3001b974-d37a-4a5f-b93a-96fd123a95b7"
      },
      "outputs": [
        {
          "name": "stdout",
          "output_type": "stream",
          "text": [
            "accuracy = 0.8361801242236024\n"
          ]
        }
      ],
      "source": [
        "''' compute different metric values on testing dataset'''\n",
        "from flaml.ml import sklearn_metric_loss_score\n",
        "print('accuracy', '=', 1 - sklearn_metric_loss_score('accuracy', y_pred, y_test))"
      ]
    },
    {
      "cell_type": "code",
      "execution_count": 23,
      "metadata": {
        "colab": {
          "base_uri": "https://localhost:8080/"
        },
        "id": "jrEKQgGi5rGE",
        "outputId": "84591775-433f-4b57-d784-cc06b8ecdc49"
      },
      "outputs": [
        {
          "data": {
            "text/plain": [
              "NOP    0.914984\n",
              "Y      0.064441\n",
              "X      0.020575\n",
              "dtype: float64"
            ]
          },
          "execution_count": 23,
          "metadata": {},
          "output_type": "execute_result"
        }
      ],
      "source": [
        "pd.Series(y_pred).value_counts(normalize=True)"
      ]
    },
    {
      "cell_type": "code",
      "execution_count": 24,
      "metadata": {
        "colab": {
          "base_uri": "https://localhost:8080/"
        },
        "id": "DEeG5H795u0I",
        "outputId": "c05dbcf0-e55d-4c45-fc57-6fa6c920ab1e"
      },
      "outputs": [
        {
          "data": {
            "text/plain": [
              "NOP    0.912655\n",
              "X      0.055512\n",
              "Y      0.031832\n",
              "Name: label, dtype: float64"
            ]
          },
          "execution_count": 24,
          "metadata": {},
          "output_type": "execute_result"
        }
      ],
      "source": [
        "y_test.value_counts(normalize=True)"
      ]
    },
    {
      "cell_type": "code",
      "execution_count": 37,
      "metadata": {
        "colab": {
          "base_uri": "https://localhost:8080/",
          "height": 295
        },
        "id": "Y192Ya1T5xfG",
        "outputId": "020668aa-d042-4570-d8ca-d09d825f73e0"
      },
      "outputs": [
        {
          "data": {
            "image/png": "[encoded data removed]",
            "text/plain": [
              "<Figure size 432x288 with 1 Axes>"
            ]
          },
          "metadata": {
            "needs_background": "light"
          },
          "output_type": "display_data"
        }
      ],
      "source": [
        "from flaml.data import get_output_from_log\n",
        "import matplotlib.pyplot as plt\n",
        "import numpy as np\n",
        "\n",
        "time_history, best_valid_loss_history, valid_loss_history, config_history, metric_history = \\\n",
        "    get_output_from_log(filename='.segment_automl_baseline2_10m.log', time_budget=60)\n",
        "\n",
        "plt.title(\"Learning Curve\")\n",
        "plt.xlabel(\"Wall Clock Time (s)\")\n",
        "plt.ylabel(\"Validation loss\")\n",
        "plt.step(time_history, np.array(best_valid_loss_history), where=\"post\")\n",
        "plt.show()"
      ]
    },
    {
      "cell_type": "code",
      "execution_count": 26,
      "metadata": {
        "colab": {
          "base_uri": "https://localhost:8080/",
          "height": 364
        },
        "id": "tQLH4cyUbhu5",
        "outputId": "7da802ef-ff01-4c8e-fc12-dc926a6f19e9"
      },
      "outputs": [
        {
          "data": {
            "text/plain": [
              "<matplotlib.axes._subplots.AxesSubplot at 0x7f6a73240730>"
            ]
          },
          "execution_count": 26,
          "metadata": {},
          "output_type": "execute_result"
        },
        {
          "data": {
            "image/png": "[encoded data removed]",
            "text/plain": [
              "<Figure size 432x288 with 1 Axes>"
            ]
          },
          "metadata": {
            "needs_background": "light"
          },
          "output_type": "display_data"
        }
      ],
      "source": [
        "pd.Series(automl.feature_importances_, index=automl.feature_names_in_).sort_values(ascending=False).plot.bar()"
      ]
    },
    {
      "cell_type": "code",
      "execution_count": 27,
      "metadata": {
        "id": "tHSLsWeVbnXT"
      },
      "outputs": [],
      "source": [
        "from sklearn.metrics import classification_report"
      ]
    },
    {
      "cell_type": "code",
      "execution_count": 28,
      "metadata": {
        "colab": {
          "base_uri": "https://localhost:8080/"
        },
        "id": "TLw6mbQVbyIC",
        "outputId": "65ec7e13-0509-4d46-bf72-e19383a687b2"
      },
      "outputs": [
        {
          "name": "stdout",
          "output_type": "stream",
          "text": [
            "              precision    recall  f1-score   support\n",
            "\n",
            "         NOP       0.91      0.91      0.91      2351\n",
            "           X       0.02      0.01      0.01       143\n",
            "           Y       0.04      0.07      0.05        82\n",
            "\n",
            "    accuracy                           0.84      2576\n",
            "   macro avg       0.32      0.33      0.32      2576\n",
            "weighted avg       0.83      0.84      0.83      2576\n",
            "\n"
          ]
        }
      ],
      "source": [
        "report = classification_report(y_test, y_pred)\n",
        "print(report)"
      ]
    },
    {
      "cell_type": "code",
      "execution_count": 29,
      "metadata": {
        "id": "xQmnp69mby6k"
      },
      "outputs": [],
      "source": [
        "pd.Series(y_pred, index=y_test.index).astype('category').to_pickle('.y_pred_baseline2_10m.pkl')\n",
        "\n",
        "prob_df = pd.DataFrame(y_pred_proba, columns=['NOP', 'X', 'Q'], index = y_test.index)\n",
        "prob_df.to_pickle('.y_prob_baseline2_10m.pkl')"
      ]
    },
    {
      "cell_type": "code",
      "execution_count": 30,
      "metadata": {
        "colab": {
          "base_uri": "https://localhost:8080/"
        },
        "id": "CrZqhLyCb-Qe",
        "outputId": "303598d4-2140-4b0d-b6c4-9600104566e4"
      },
      "outputs": [
        {
          "data": {
            "text/plain": [
              "0.25    0.000115\n",
              "0.50    0.000764\n",
              "0.75    0.005286\n",
              "Name: X, dtype: float64"
            ]
          },
          "execution_count": 30,
          "metadata": {},
          "output_type": "execute_result"
        }
      ],
      "source": [
        "prob_df.X.quantile([0.25, 0.5, 0.75])"
      ]
    },
    {
      "cell_type": "code",
      "execution_count": 31,
      "metadata": {
        "colab": {
          "base_uri": "https://localhost:8080/",
          "height": 424
        },
        "id": "5IfEZ_GQb_HA",
        "outputId": "20c72ca9-3bd0-49a5-8beb-e7a7aff46a33"
      },
      "outputs": [
        {
          "data": {
            "text/html": [
              "\n",
              "  <div id=\"df-61997a1a-13f0-499a-a9e6-688fb762722e\">\n",
              "    <div class=\"colab-df-container\">\n",
              "      <div>\n",
              "<style scoped>\n",
              "    .dataframe tbody tr th:only-of-type {\n",
              "        vertical-align: middle;\n",
              "    }\n",
              "\n",
              "    .dataframe tbody tr th {\n",
              "        vertical-align: top;\n",
              "    }\n",
              "\n",
              "    .dataframe thead th {\n",
              "        text-align: right;\n",
              "    }\n",
              "</style>\n",
              "<table border=\"1\" class=\"dataframe\">\n",
              "  <thead>\n",
              "    <tr style=\"text-align: right;\">\n",
              "      <th></th>\n",
              "      <th>NOP</th>\n",
              "      <th>X</th>\n",
              "      <th>Q</th>\n",
              "    </tr>\n",
              "  </thead>\n",
              "  <tbody>\n",
              "    <tr>\n",
              "      <th>2022-10-04 11:09:00</th>\n",
              "      <td>0.811081</td>\n",
              "      <td>0.124913</td>\n",
              "      <td>0.064006</td>\n",
              "    </tr>\n",
              "    <tr>\n",
              "      <th>2022-10-04 11:12:00</th>\n",
              "      <td>0.993680</td>\n",
              "      <td>0.000197</td>\n",
              "      <td>0.006122</td>\n",
              "    </tr>\n",
              "    <tr>\n",
              "      <th>2022-10-04 11:15:00</th>\n",
              "      <td>0.988153</td>\n",
              "      <td>0.000326</td>\n",
              "      <td>0.011521</td>\n",
              "    </tr>\n",
              "    <tr>\n",
              "      <th>2022-10-04 11:18:00</th>\n",
              "      <td>0.795049</td>\n",
              "      <td>0.000430</td>\n",
              "      <td>0.204521</td>\n",
              "    </tr>\n",
              "    <tr>\n",
              "      <th>2022-10-04 11:21:00</th>\n",
              "      <td>0.832703</td>\n",
              "      <td>0.000026</td>\n",
              "      <td>0.167272</td>\n",
              "    </tr>\n",
              "    <tr>\n",
              "      <th>...</th>\n",
              "      <td>...</td>\n",
              "      <td>...</td>\n",
              "      <td>...</td>\n",
              "    </tr>\n",
              "    <tr>\n",
              "      <th>2022-12-07 13:42:00</th>\n",
              "      <td>0.820169</td>\n",
              "      <td>0.059312</td>\n",
              "      <td>0.120519</td>\n",
              "    </tr>\n",
              "    <tr>\n",
              "      <th>2022-12-07 13:45:00</th>\n",
              "      <td>0.996962</td>\n",
              "      <td>0.000891</td>\n",
              "      <td>0.002146</td>\n",
              "    </tr>\n",
              "    <tr>\n",
              "      <th>2022-12-07 13:48:00</th>\n",
              "      <td>0.999528</td>\n",
              "      <td>0.000223</td>\n",
              "      <td>0.000249</td>\n",
              "    </tr>\n",
              "    <tr>\n",
              "      <th>2022-12-07 13:51:00</th>\n",
              "      <td>0.999996</td>\n",
              "      <td>0.000002</td>\n",
              "      <td>0.000003</td>\n",
              "    </tr>\n",
              "    <tr>\n",
              "      <th>2022-12-07 13:54:00</th>\n",
              "      <td>0.999820</td>\n",
              "      <td>0.000003</td>\n",
              "      <td>0.000177</td>\n",
              "    </tr>\n",
              "  </tbody>\n",
              "</table>\n",
              "<p>2576 rows × 3 columns</p>\n",
              "</div>\n",
              "      <button class=\"colab-df-convert\" onclick=\"convertToInteractive('df-61997a1a-13f0-499a-a9e6-688fb762722e')\"\n",
              "              title=\"Convert this dataframe to an interactive table.\"\n",
              "              style=\"display:none;\">\n",
              "        \n",
              "  <svg xmlns=\"http://www.w3.org/2000/svg\" height=\"24px\"viewBox=\"0 0 24 24\"\n",
              "       width=\"24px\">\n",
              "    <path d=\"M0 0h24v24H0V0z\" fill=\"none\"/>\n",
              "    <path d=\"M18.56 5.44l.94 2.06.94-2.06 2.06-.94-2.06-.94-.94-2.06-.94 2.06-2.06.94zm-11 1L8.5 8.5l.94-2.06 2.06-.94-2.06-.94L8.5 2.5l-.94 2.06-2.06.94zm10 10l.94 2.06.94-2.06 2.06-.94-2.06-.94-.94-2.06-.94 2.06-2.06.94z\"/><path d=\"M17.41 7.96l-1.37-1.37c-.4-.4-.92-.59-1.43-.59-.52 0-1.04.2-1.43.59L10.3 9.45l-7.72 7.72c-.78.78-.78 2.05 0 2.83L4 21.41c.39.39.9.59 1.41.59.51 0 1.02-.2 1.41-.59l7.78-7.78 2.81-2.81c.8-.78.8-2.07 0-2.86zM5.41 20L4 18.59l7.72-7.72 1.47 1.35L5.41 20z\"/>\n",
              "  </svg>\n",
              "      </button>\n",
              "      \n",
              "  <style>\n",
              "    .colab-df-container {\n",
              "      display:flex;\n",
              "      flex-wrap:wrap;\n",
              "      gap: 12px;\n",
              "    }\n",
              "\n",
              "    .colab-df-convert {\n",
              "      background-color: #E8F0FE;\n",
              "      border: none;\n",
              "      border-radius: 50%;\n",
              "      cursor: pointer;\n",
              "      display: none;\n",
              "      fill: #1967D2;\n",
              "      height: 32px;\n",
              "      padding: 0 0 0 0;\n",
              "      width: 32px;\n",
              "    }\n",
              "\n",
              "    .colab-df-convert:hover {\n",
              "      background-color: #E2EBFA;\n",
              "      box-shadow: 0px 1px 2px rgba(60, 64, 67, 0.3), 0px 1px 3px 1px rgba(60, 64, 67, 0.15);\n",
              "      fill: #174EA6;\n",
              "    }\n",
              "\n",
              "    [theme=dark] .colab-df-convert {\n",
              "      background-color: #3B4455;\n",
              "      fill: #D2E3FC;\n",
              "    }\n",
              "\n",
              "    [theme=dark] .colab-df-convert:hover {\n",
              "      background-color: #434B5C;\n",
              "      box-shadow: 0px 1px 3px 1px rgba(0, 0, 0, 0.15);\n",
              "      filter: drop-shadow(0px 1px 2px rgba(0, 0, 0, 0.3));\n",
              "      fill: #FFFFFF;\n",
              "    }\n",
              "  </style>\n",
              "\n",
              "      <script>\n",
              "        const buttonEl =\n",
              "          document.querySelector('#df-61997a1a-13f0-499a-a9e6-688fb762722e button.colab-df-convert');\n",
              "        buttonEl.style.display =\n",
              "          google.colab.kernel.accessAllowed ? 'block' : 'none';\n",
              "\n",
              "        async function convertToInteractive(key) {\n",
              "          const element = document.querySelector('#df-61997a1a-13f0-499a-a9e6-688fb762722e');\n",
              "          const dataTable =\n",
              "            await google.colab.kernel.invokeFunction('convertToInteractive',\n",
              "                                                     [key], {});\n",
              "          if (!dataTable) return;\n",
              "\n",
              "          const docLinkHtml = 'Like what you see? Visit the ' +\n",
              "            '<a target=\"_blank\" href=https://colab.research.google.com/notebooks/data_table.ipynb>data table notebook</a>'\n",
              "            + ' to learn more about interactive tables.';\n",
              "          element.innerHTML = '';\n",
              "          dataTable['output_type'] = 'display_data';\n",
              "          await google.colab.output.renderOutput(dataTable, element);\n",
              "          const docLink = document.createElement('div');\n",
              "          docLink.innerHTML = docLinkHtml;\n",
              "          element.appendChild(docLink);\n",
              "        }\n",
              "      </script>\n",
              "    </div>\n",
              "  </div>\n",
              "  "
            ],
            "text/plain": [
              "                          NOP         X         Q\n",
              "2022-10-04 11:09:00  0.811081  0.124913  0.064006\n",
              "2022-10-04 11:12:00  0.993680  0.000197  0.006122\n",
              "2022-10-04 11:15:00  0.988153  0.000326  0.011521\n",
              "2022-10-04 11:18:00  0.795049  0.000430  0.204521\n",
              "2022-10-04 11:21:00  0.832703  0.000026  0.167272\n",
              "...                       ...       ...       ...\n",
              "2022-12-07 13:42:00  0.820169  0.059312  0.120519\n",
              "2022-12-07 13:45:00  0.996962  0.000891  0.002146\n",
              "2022-12-07 13:48:00  0.999528  0.000223  0.000249\n",
              "2022-12-07 13:51:00  0.999996  0.000002  0.000003\n",
              "2022-12-07 13:54:00  0.999820  0.000003  0.000177\n",
              "\n",
              "[2576 rows x 3 columns]"
            ]
          },
          "execution_count": 31,
          "metadata": {},
          "output_type": "execute_result"
        }
      ],
      "source": [
        "prob_df"
      ]
    }
  ],
  "metadata": {
    "colab": {
      "provenance": []
    },
    "kernelspec": {
      "display_name": "AIFT",
      "language": "python",
      "name": "python3"
    },
    "language_info": {
      "name": "python",
      "version": "3.8.13 (default, Mar 28 2022, 01:56:06) [MSC v.1916 32 bit (Intel)]"
    },
    "vscode": {
      "interpreter": {
        "hash": "ee96a18a3b59db37dfc2ee57674c3e650872b3eaef3f685661ee37017fe5388a"
      }
    }
  },
  "nbformat": 4,
  "nbformat_minor": 0
}
