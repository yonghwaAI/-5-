{
  "nbformat": 4,
  "nbformat_minor": 0,
  "metadata": {
    "colab": {
      "provenance": []
    },
    "kernelspec": {
      "name": "python3",
      "display_name": "Python 3"
    },
    "language_info": {
      "name": "python"
    }
  },
  "cells": [
    {
      "cell_type": "code",
      "execution_count": null,
      "metadata": {
        "colab": {
          "base_uri": "https://localhost:8080/"
        },
        "id": "qBSBMqXbxf4Y",
        "outputId": "175347d9-e0ec-4c5c-dee2-0e0643a41393"
      },
      "outputs": [
        {
          "output_type": "stream",
          "name": "stdout",
          "text": [
            "Drive already mounted at /content/gdrive; to attempt to forcibly remount, call drive.mount(\"/content/gdrive\", force_remount=True).\n"
          ]
        }
      ],
      "source": [
        "from google.colab import drive\n",
        "drive.mount('/content/gdrive')"
      ]
    },
    {
      "cell_type": "code",
      "source": [
        "import pandas as pd\n",
        "import numpy as np\n",
        "\n",
        "#!pip install sktime\n",
        "from sktime.forecasting.model_selection import temporal_train_test_split"
      ],
      "metadata": {
        "id": "7Ogu9M8eyA_C"
      },
      "execution_count": null,
      "outputs": []
    },
    {
      "cell_type": "code",
      "source": [
        "data_file = \"/content/gdrive/MyDrive/Colab Notebooks/4-2/AIFT/data.csv\"\n",
        "df = pd.read_csv(data_file,index_col='Unnamed: 0')\n",
        "df = df.iloc[1:][:]\n",
        "print(df.shape)\n",
        "df.head()"
      ],
      "metadata": {
        "colab": {
          "base_uri": "https://localhost:8080/",
          "height": 491
        },
        "id": "Xkb7U0oMxx-o",
        "outputId": "ee9e44d0-71fd-4273-cdf8-9a076c1f31f7"
      },
      "execution_count": null,
      "outputs": [
        {
          "output_type": "stream",
          "name": "stdout",
          "text": [
            "(14145, 23)\n"
          ]
        },
        {
          "output_type": "execute_result",
          "data": {
            "text/plain": [
              "                        ma_w_x  macd_w_x  macdsignal_w_x  macdhist_w_x  \\\n",
              "2021-12-02 11:12:00  32.906667  8.622361       22.457295    -13.834934   \n",
              "2021-12-02 11:15:00  35.760000  2.547207       18.475277    -15.928070   \n",
              "2021-12-02 11:18:00  42.043333 -2.153807       14.349460    -16.503267   \n",
              "2021-12-02 11:21:00  46.373333 -6.761681       10.127232    -16.888913   \n",
              "2021-12-02 11:24:00  53.736667 -6.298201        6.842146    -13.140346   \n",
              "\n",
              "                      rsi_w_x        ad_w_x ts_end_x ts_start_x is_higher_x  \\\n",
              "2021-12-02 11:12:00 -1.847265  51515.668116    False      False        True   \n",
              "2021-12-02 11:15:00 -5.503149  25495.709956    False      False        True   \n",
              "2021-12-02 11:18:00 -4.424460  21430.047899    False      False        True   \n",
              "2021-12-02 11:21:00 -4.671662  15676.338589    False      False        True   \n",
              "2021-12-02 11:24:00  0.011823  24676.029280    False      False        True   \n",
              "\n",
              "                     offset_intra_day_x  ...  macdsignal_w_y  macdhist_w_y  \\\n",
              "2021-12-02 11:12:00            0.330769  ...       -2.542392      1.449403   \n",
              "2021-12-02 11:15:00            0.338462  ...       -2.110002      1.729559   \n",
              "2021-12-02 11:18:00            0.346154  ...       -1.723365      1.546547   \n",
              "2021-12-02 11:21:00            0.353846  ...       -1.278042      1.781292   \n",
              "2021-12-02 11:24:00            0.361538  ...       -0.888162      1.559519   \n",
              "\n",
              "                      rsi_w_y    ad_w_y  ts_end_y  ts_start_y  is_higher_y  \\\n",
              "2021-12-02 11:12:00  1.920541 -541806.0     False       False        False   \n",
              "2021-12-02 11:15:00  7.159809 -309922.4     False       False        False   \n",
              "2021-12-02 11:18:00  2.957516 -377094.0     False       False        False   \n",
              "2021-12-02 11:21:00  8.215010 -245900.2     False       False        False   \n",
              "2021-12-02 11:24:00  4.020271 -663077.5     False       False        False   \n",
              "\n",
              "                    offset_intra_day_y  target_y label  \n",
              "2021-12-02 11:12:00           0.330769  0.998628   NOP  \n",
              "2021-12-02 11:15:00           0.338462  0.997340   NOP  \n",
              "2021-12-02 11:18:00           0.346154  0.998507   NOP  \n",
              "2021-12-02 11:21:00           0.353846  0.997179     X  \n",
              "2021-12-02 11:24:00           0.361538  0.998305   NOP  \n",
              "\n",
              "[5 rows x 23 columns]"
            ],
            "text/html": [
              "\n",
              "  <div id=\"df-a970937e-9981-44d8-84d0-4358a67f6882\">\n",
              "    <div class=\"colab-df-container\">\n",
              "      <div>\n",
              "<style scoped>\n",
              "    .dataframe tbody tr th:only-of-type {\n",
              "        vertical-align: middle;\n",
              "    }\n",
              "\n",
              "    .dataframe tbody tr th {\n",
              "        vertical-align: top;\n",
              "    }\n",
              "\n",
              "    .dataframe thead th {\n",
              "        text-align: right;\n",
              "    }\n",
              "</style>\n",
              "<table border=\"1\" class=\"dataframe\">\n",
              "  <thead>\n",
              "    <tr style=\"text-align: right;\">\n",
              "      <th></th>\n",
              "      <th>ma_w_x</th>\n",
              "      <th>macd_w_x</th>\n",
              "      <th>macdsignal_w_x</th>\n",
              "      <th>macdhist_w_x</th>\n",
              "      <th>rsi_w_x</th>\n",
              "      <th>ad_w_x</th>\n",
              "      <th>ts_end_x</th>\n",
              "      <th>ts_start_x</th>\n",
              "      <th>is_higher_x</th>\n",
              "      <th>offset_intra_day_x</th>\n",
              "      <th>...</th>\n",
              "      <th>macdsignal_w_y</th>\n",
              "      <th>macdhist_w_y</th>\n",
              "      <th>rsi_w_y</th>\n",
              "      <th>ad_w_y</th>\n",
              "      <th>ts_end_y</th>\n",
              "      <th>ts_start_y</th>\n",
              "      <th>is_higher_y</th>\n",
              "      <th>offset_intra_day_y</th>\n",
              "      <th>target_y</th>\n",
              "      <th>label</th>\n",
              "    </tr>\n",
              "  </thead>\n",
              "  <tbody>\n",
              "    <tr>\n",
              "      <th>2021-12-02 11:12:00</th>\n",
              "      <td>32.906667</td>\n",
              "      <td>8.622361</td>\n",
              "      <td>22.457295</td>\n",
              "      <td>-13.834934</td>\n",
              "      <td>-1.847265</td>\n",
              "      <td>51515.668116</td>\n",
              "      <td>False</td>\n",
              "      <td>False</td>\n",
              "      <td>True</td>\n",
              "      <td>0.330769</td>\n",
              "      <td>...</td>\n",
              "      <td>-2.542392</td>\n",
              "      <td>1.449403</td>\n",
              "      <td>1.920541</td>\n",
              "      <td>-541806.0</td>\n",
              "      <td>False</td>\n",
              "      <td>False</td>\n",
              "      <td>False</td>\n",
              "      <td>0.330769</td>\n",
              "      <td>0.998628</td>\n",
              "      <td>NOP</td>\n",
              "    </tr>\n",
              "    <tr>\n",
              "      <th>2021-12-02 11:15:00</th>\n",
              "      <td>35.760000</td>\n",
              "      <td>2.547207</td>\n",
              "      <td>18.475277</td>\n",
              "      <td>-15.928070</td>\n",
              "      <td>-5.503149</td>\n",
              "      <td>25495.709956</td>\n",
              "      <td>False</td>\n",
              "      <td>False</td>\n",
              "      <td>True</td>\n",
              "      <td>0.338462</td>\n",
              "      <td>...</td>\n",
              "      <td>-2.110002</td>\n",
              "      <td>1.729559</td>\n",
              "      <td>7.159809</td>\n",
              "      <td>-309922.4</td>\n",
              "      <td>False</td>\n",
              "      <td>False</td>\n",
              "      <td>False</td>\n",
              "      <td>0.338462</td>\n",
              "      <td>0.997340</td>\n",
              "      <td>NOP</td>\n",
              "    </tr>\n",
              "    <tr>\n",
              "      <th>2021-12-02 11:18:00</th>\n",
              "      <td>42.043333</td>\n",
              "      <td>-2.153807</td>\n",
              "      <td>14.349460</td>\n",
              "      <td>-16.503267</td>\n",
              "      <td>-4.424460</td>\n",
              "      <td>21430.047899</td>\n",
              "      <td>False</td>\n",
              "      <td>False</td>\n",
              "      <td>True</td>\n",
              "      <td>0.346154</td>\n",
              "      <td>...</td>\n",
              "      <td>-1.723365</td>\n",
              "      <td>1.546547</td>\n",
              "      <td>2.957516</td>\n",
              "      <td>-377094.0</td>\n",
              "      <td>False</td>\n",
              "      <td>False</td>\n",
              "      <td>False</td>\n",
              "      <td>0.346154</td>\n",
              "      <td>0.998507</td>\n",
              "      <td>NOP</td>\n",
              "    </tr>\n",
              "    <tr>\n",
              "      <th>2021-12-02 11:21:00</th>\n",
              "      <td>46.373333</td>\n",
              "      <td>-6.761681</td>\n",
              "      <td>10.127232</td>\n",
              "      <td>-16.888913</td>\n",
              "      <td>-4.671662</td>\n",
              "      <td>15676.338589</td>\n",
              "      <td>False</td>\n",
              "      <td>False</td>\n",
              "      <td>True</td>\n",
              "      <td>0.353846</td>\n",
              "      <td>...</td>\n",
              "      <td>-1.278042</td>\n",
              "      <td>1.781292</td>\n",
              "      <td>8.215010</td>\n",
              "      <td>-245900.2</td>\n",
              "      <td>False</td>\n",
              "      <td>False</td>\n",
              "      <td>False</td>\n",
              "      <td>0.353846</td>\n",
              "      <td>0.997179</td>\n",
              "      <td>X</td>\n",
              "    </tr>\n",
              "    <tr>\n",
              "      <th>2021-12-02 11:24:00</th>\n",
              "      <td>53.736667</td>\n",
              "      <td>-6.298201</td>\n",
              "      <td>6.842146</td>\n",
              "      <td>-13.140346</td>\n",
              "      <td>0.011823</td>\n",
              "      <td>24676.029280</td>\n",
              "      <td>False</td>\n",
              "      <td>False</td>\n",
              "      <td>True</td>\n",
              "      <td>0.361538</td>\n",
              "      <td>...</td>\n",
              "      <td>-0.888162</td>\n",
              "      <td>1.559519</td>\n",
              "      <td>4.020271</td>\n",
              "      <td>-663077.5</td>\n",
              "      <td>False</td>\n",
              "      <td>False</td>\n",
              "      <td>False</td>\n",
              "      <td>0.361538</td>\n",
              "      <td>0.998305</td>\n",
              "      <td>NOP</td>\n",
              "    </tr>\n",
              "  </tbody>\n",
              "</table>\n",
              "<p>5 rows × 23 columns</p>\n",
              "</div>\n",
              "      <button class=\"colab-df-convert\" onclick=\"convertToInteractive('df-a970937e-9981-44d8-84d0-4358a67f6882')\"\n",
              "              title=\"Convert this dataframe to an interactive table.\"\n",
              "              style=\"display:none;\">\n",
              "        \n",
              "  <svg xmlns=\"http://www.w3.org/2000/svg\" height=\"24px\"viewBox=\"0 0 24 24\"\n",
              "       width=\"24px\">\n",
              "    <path d=\"M0 0h24v24H0V0z\" fill=\"none\"/>\n",
              "    <path d=\"M18.56 5.44l.94 2.06.94-2.06 2.06-.94-2.06-.94-.94-2.06-.94 2.06-2.06.94zm-11 1L8.5 8.5l.94-2.06 2.06-.94-2.06-.94L8.5 2.5l-.94 2.06-2.06.94zm10 10l.94 2.06.94-2.06 2.06-.94-2.06-.94-.94-2.06-.94 2.06-2.06.94z\"/><path d=\"M17.41 7.96l-1.37-1.37c-.4-.4-.92-.59-1.43-.59-.52 0-1.04.2-1.43.59L10.3 9.45l-7.72 7.72c-.78.78-.78 2.05 0 2.83L4 21.41c.39.39.9.59 1.41.59.51 0 1.02-.2 1.41-.59l7.78-7.78 2.81-2.81c.8-.78.8-2.07 0-2.86zM5.41 20L4 18.59l7.72-7.72 1.47 1.35L5.41 20z\"/>\n",
              "  </svg>\n",
              "      </button>\n",
              "      \n",
              "  <style>\n",
              "    .colab-df-container {\n",
              "      display:flex;\n",
              "      flex-wrap:wrap;\n",
              "      gap: 12px;\n",
              "    }\n",
              "\n",
              "    .colab-df-convert {\n",
              "      background-color: #E8F0FE;\n",
              "      border: none;\n",
              "      border-radius: 50%;\n",
              "      cursor: pointer;\n",
              "      display: none;\n",
              "      fill: #1967D2;\n",
              "      height: 32px;\n",
              "      padding: 0 0 0 0;\n",
              "      width: 32px;\n",
              "    }\n",
              "\n",
              "    .colab-df-convert:hover {\n",
              "      background-color: #E2EBFA;\n",
              "      box-shadow: 0px 1px 2px rgba(60, 64, 67, 0.3), 0px 1px 3px 1px rgba(60, 64, 67, 0.15);\n",
              "      fill: #174EA6;\n",
              "    }\n",
              "\n",
              "    [theme=dark] .colab-df-convert {\n",
              "      background-color: #3B4455;\n",
              "      fill: #D2E3FC;\n",
              "    }\n",
              "\n",
              "    [theme=dark] .colab-df-convert:hover {\n",
              "      background-color: #434B5C;\n",
              "      box-shadow: 0px 1px 3px 1px rgba(0, 0, 0, 0.15);\n",
              "      filter: drop-shadow(0px 1px 2px rgba(0, 0, 0, 0.3));\n",
              "      fill: #FFFFFF;\n",
              "    }\n",
              "  </style>\n",
              "\n",
              "      <script>\n",
              "        const buttonEl =\n",
              "          document.querySelector('#df-a970937e-9981-44d8-84d0-4358a67f6882 button.colab-df-convert');\n",
              "        buttonEl.style.display =\n",
              "          google.colab.kernel.accessAllowed ? 'block' : 'none';\n",
              "\n",
              "        async function convertToInteractive(key) {\n",
              "          const element = document.querySelector('#df-a970937e-9981-44d8-84d0-4358a67f6882');\n",
              "          const dataTable =\n",
              "            await google.colab.kernel.invokeFunction('convertToInteractive',\n",
              "                                                     [key], {});\n",
              "          if (!dataTable) return;\n",
              "\n",
              "          const docLinkHtml = 'Like what you see? Visit the ' +\n",
              "            '<a target=\"_blank\" href=https://colab.research.google.com/notebooks/data_table.ipynb>data table notebook</a>'\n",
              "            + ' to learn more about interactive tables.';\n",
              "          element.innerHTML = '';\n",
              "          dataTable['output_type'] = 'display_data';\n",
              "          await google.colab.output.renderOutput(dataTable, element);\n",
              "          const docLink = document.createElement('div');\n",
              "          docLink.innerHTML = docLinkHtml;\n",
              "          element.appendChild(docLink);\n",
              "        }\n",
              "      </script>\n",
              "    </div>\n",
              "  </div>\n",
              "  "
            ]
          },
          "metadata": {},
          "execution_count": 17
        }
      ]
    },
    {
      "cell_type": "code",
      "source": [
        "\n",
        "effective_cols = [\n",
        "\n",
        "       'ma_w_x', 'macd_w_x', 'macdsignal_w_x', 'macdhist_w_x', 'rsi_w_x', 'ad_w_x', 'is_higher_x', \n",
        "       'ts_end_x', 'ts_start_x', 'offset_intra_day_x', \n",
        "       'ma_w_y', 'macd_w_y', 'macdsignal_w_y', 'macdhist_w_y', 'rsi_w_y', 'ad_w_y', 'is_higher_y', \n",
        "\n",
        "\n",
        "       'label'\n",
        "       \n",
        "       ]"
      ],
      "metadata": {
        "id": "x5QHosWEytHP"
      },
      "execution_count": null,
      "outputs": []
    },
    {
      "cell_type": "code",
      "source": [
        "data_df = df[effective_cols].dropna(axis=0)"
      ],
      "metadata": {
        "id": "By2jpR5YzCg0"
      },
      "execution_count": null,
      "outputs": []
    },
    {
      "cell_type": "code",
      "source": [
        "# !pip install flaml\n",
        "from flaml import AutoML\n",
        "automl = AutoML()"
      ],
      "metadata": {
        "id": "Sic17NS-y0j1"
      },
      "execution_count": null,
      "outputs": []
    },
    {
      "cell_type": "code",
      "source": [
        "df.tail()"
      ],
      "metadata": {
        "colab": {
          "base_uri": "https://localhost:8080/",
          "height": 473
        },
        "id": "GO06rg6e00kb",
        "outputId": "ea232b95-723e-4f13-91dc-0f6b91aec13b"
      },
      "execution_count": null,
      "outputs": [
        {
          "output_type": "execute_result",
          "data": {
            "text/plain": [
              "                        ma_w_x   macd_w_x  macdsignal_w_x  macdhist_w_x  \\\n",
              "2022-12-09 13:39:00  12.683333  -8.280582       -3.500433     -4.780149   \n",
              "2022-12-09 13:42:00   7.433333 -12.549776       -5.310302     -7.239474   \n",
              "2022-12-09 13:45:00   2.416667 -15.512253       -7.350692     -8.161561   \n",
              "2022-12-09 13:48:00  -1.633333 -16.539695       -9.188493     -7.351202   \n",
              "2022-12-09 13:51:00  -5.050000 -16.876982      -10.726191     -6.150791   \n",
              "\n",
              "                       rsi_w_x         ad_w_x ts_end_x ts_start_x is_higher_x  \\\n",
              "2022-12-09 13:39:00 -17.805891  -21079.566667    False      False        True   \n",
              "2022-12-09 13:42:00 -24.547427 -144458.000000    False      False        True   \n",
              "2022-12-09 13:45:00 -22.482273 -187508.933333    False      False        True   \n",
              "2022-12-09 13:48:00 -16.499845 -162664.733333    False      False        True   \n",
              "2022-12-09 13:51:00 -14.583091 -141732.800000    False      False        True   \n",
              "\n",
              "                     offset_intra_day_x  ...  macdsignal_w_y  macdhist_w_y  \\\n",
              "2022-12-09 13:39:00            0.707692  ...        0.609377      0.664407   \n",
              "2022-12-09 13:42:00            0.715385  ...        0.823415      0.856150   \n",
              "2022-12-09 13:45:00            0.723077  ...        1.118218      1.179214   \n",
              "2022-12-09 13:48:00            0.730769  ...        1.421710      1.213967   \n",
              "2022-12-09 13:51:00            0.738462  ...        1.607794      0.744335   \n",
              "\n",
              "                       rsi_w_y   ad_w_y  ts_end_y  ts_start_y  is_higher_y  \\\n",
              "2022-12-09 13:39:00   3.310417  15876.9     False       False        False   \n",
              "2022-12-09 13:42:00   8.674108  22801.0     False       False        False   \n",
              "2022-12-09 13:45:00  12.148443  33681.1     False       False        False   \n",
              "2022-12-09 13:48:00  10.287465  51485.7     False       False        False   \n",
              "2022-12-09 13:51:00   1.886995  52889.9     False       False        False   \n",
              "\n",
              "                    offset_intra_day_y  target_y label  \n",
              "2022-12-09 13:39:00           0.707692  1.001799   NOP  \n",
              "2022-12-09 13:42:00           0.715385  1.000746   NOP  \n",
              "2022-12-09 13:45:00           0.723077  0.999627   NOP  \n",
              "2022-12-09 13:48:00           0.730769  0.999593   NOP  \n",
              "2022-12-09 13:51:00           0.738462  1.000576   NOP  \n",
              "\n",
              "[5 rows x 23 columns]"
            ],
            "text/html": [
              "\n",
              "  <div id=\"df-fed6ea6c-fdce-4ed6-8fc8-d60596095638\">\n",
              "    <div class=\"colab-df-container\">\n",
              "      <div>\n",
              "<style scoped>\n",
              "    .dataframe tbody tr th:only-of-type {\n",
              "        vertical-align: middle;\n",
              "    }\n",
              "\n",
              "    .dataframe tbody tr th {\n",
              "        vertical-align: top;\n",
              "    }\n",
              "\n",
              "    .dataframe thead th {\n",
              "        text-align: right;\n",
              "    }\n",
              "</style>\n",
              "<table border=\"1\" class=\"dataframe\">\n",
              "  <thead>\n",
              "    <tr style=\"text-align: right;\">\n",
              "      <th></th>\n",
              "      <th>ma_w_x</th>\n",
              "      <th>macd_w_x</th>\n",
              "      <th>macdsignal_w_x</th>\n",
              "      <th>macdhist_w_x</th>\n",
              "      <th>rsi_w_x</th>\n",
              "      <th>ad_w_x</th>\n",
              "      <th>ts_end_x</th>\n",
              "      <th>ts_start_x</th>\n",
              "      <th>is_higher_x</th>\n",
              "      <th>offset_intra_day_x</th>\n",
              "      <th>...</th>\n",
              "      <th>macdsignal_w_y</th>\n",
              "      <th>macdhist_w_y</th>\n",
              "      <th>rsi_w_y</th>\n",
              "      <th>ad_w_y</th>\n",
              "      <th>ts_end_y</th>\n",
              "      <th>ts_start_y</th>\n",
              "      <th>is_higher_y</th>\n",
              "      <th>offset_intra_day_y</th>\n",
              "      <th>target_y</th>\n",
              "      <th>label</th>\n",
              "    </tr>\n",
              "  </thead>\n",
              "  <tbody>\n",
              "    <tr>\n",
              "      <th>2022-12-09 13:39:00</th>\n",
              "      <td>12.683333</td>\n",
              "      <td>-8.280582</td>\n",
              "      <td>-3.500433</td>\n",
              "      <td>-4.780149</td>\n",
              "      <td>-17.805891</td>\n",
              "      <td>-21079.566667</td>\n",
              "      <td>False</td>\n",
              "      <td>False</td>\n",
              "      <td>True</td>\n",
              "      <td>0.707692</td>\n",
              "      <td>...</td>\n",
              "      <td>0.609377</td>\n",
              "      <td>0.664407</td>\n",
              "      <td>3.310417</td>\n",
              "      <td>15876.9</td>\n",
              "      <td>False</td>\n",
              "      <td>False</td>\n",
              "      <td>False</td>\n",
              "      <td>0.707692</td>\n",
              "      <td>1.001799</td>\n",
              "      <td>NOP</td>\n",
              "    </tr>\n",
              "    <tr>\n",
              "      <th>2022-12-09 13:42:00</th>\n",
              "      <td>7.433333</td>\n",
              "      <td>-12.549776</td>\n",
              "      <td>-5.310302</td>\n",
              "      <td>-7.239474</td>\n",
              "      <td>-24.547427</td>\n",
              "      <td>-144458.000000</td>\n",
              "      <td>False</td>\n",
              "      <td>False</td>\n",
              "      <td>True</td>\n",
              "      <td>0.715385</td>\n",
              "      <td>...</td>\n",
              "      <td>0.823415</td>\n",
              "      <td>0.856150</td>\n",
              "      <td>8.674108</td>\n",
              "      <td>22801.0</td>\n",
              "      <td>False</td>\n",
              "      <td>False</td>\n",
              "      <td>False</td>\n",
              "      <td>0.715385</td>\n",
              "      <td>1.000746</td>\n",
              "      <td>NOP</td>\n",
              "    </tr>\n",
              "    <tr>\n",
              "      <th>2022-12-09 13:45:00</th>\n",
              "      <td>2.416667</td>\n",
              "      <td>-15.512253</td>\n",
              "      <td>-7.350692</td>\n",
              "      <td>-8.161561</td>\n",
              "      <td>-22.482273</td>\n",
              "      <td>-187508.933333</td>\n",
              "      <td>False</td>\n",
              "      <td>False</td>\n",
              "      <td>True</td>\n",
              "      <td>0.723077</td>\n",
              "      <td>...</td>\n",
              "      <td>1.118218</td>\n",
              "      <td>1.179214</td>\n",
              "      <td>12.148443</td>\n",
              "      <td>33681.1</td>\n",
              "      <td>False</td>\n",
              "      <td>False</td>\n",
              "      <td>False</td>\n",
              "      <td>0.723077</td>\n",
              "      <td>0.999627</td>\n",
              "      <td>NOP</td>\n",
              "    </tr>\n",
              "    <tr>\n",
              "      <th>2022-12-09 13:48:00</th>\n",
              "      <td>-1.633333</td>\n",
              "      <td>-16.539695</td>\n",
              "      <td>-9.188493</td>\n",
              "      <td>-7.351202</td>\n",
              "      <td>-16.499845</td>\n",
              "      <td>-162664.733333</td>\n",
              "      <td>False</td>\n",
              "      <td>False</td>\n",
              "      <td>True</td>\n",
              "      <td>0.730769</td>\n",
              "      <td>...</td>\n",
              "      <td>1.421710</td>\n",
              "      <td>1.213967</td>\n",
              "      <td>10.287465</td>\n",
              "      <td>51485.7</td>\n",
              "      <td>False</td>\n",
              "      <td>False</td>\n",
              "      <td>False</td>\n",
              "      <td>0.730769</td>\n",
              "      <td>0.999593</td>\n",
              "      <td>NOP</td>\n",
              "    </tr>\n",
              "    <tr>\n",
              "      <th>2022-12-09 13:51:00</th>\n",
              "      <td>-5.050000</td>\n",
              "      <td>-16.876982</td>\n",
              "      <td>-10.726191</td>\n",
              "      <td>-6.150791</td>\n",
              "      <td>-14.583091</td>\n",
              "      <td>-141732.800000</td>\n",
              "      <td>False</td>\n",
              "      <td>False</td>\n",
              "      <td>True</td>\n",
              "      <td>0.738462</td>\n",
              "      <td>...</td>\n",
              "      <td>1.607794</td>\n",
              "      <td>0.744335</td>\n",
              "      <td>1.886995</td>\n",
              "      <td>52889.9</td>\n",
              "      <td>False</td>\n",
              "      <td>False</td>\n",
              "      <td>False</td>\n",
              "      <td>0.738462</td>\n",
              "      <td>1.000576</td>\n",
              "      <td>NOP</td>\n",
              "    </tr>\n",
              "  </tbody>\n",
              "</table>\n",
              "<p>5 rows × 23 columns</p>\n",
              "</div>\n",
              "      <button class=\"colab-df-convert\" onclick=\"convertToInteractive('df-fed6ea6c-fdce-4ed6-8fc8-d60596095638')\"\n",
              "              title=\"Convert this dataframe to an interactive table.\"\n",
              "              style=\"display:none;\">\n",
              "        \n",
              "  <svg xmlns=\"http://www.w3.org/2000/svg\" height=\"24px\"viewBox=\"0 0 24 24\"\n",
              "       width=\"24px\">\n",
              "    <path d=\"M0 0h24v24H0V0z\" fill=\"none\"/>\n",
              "    <path d=\"M18.56 5.44l.94 2.06.94-2.06 2.06-.94-2.06-.94-.94-2.06-.94 2.06-2.06.94zm-11 1L8.5 8.5l.94-2.06 2.06-.94-2.06-.94L8.5 2.5l-.94 2.06-2.06.94zm10 10l.94 2.06.94-2.06 2.06-.94-2.06-.94-.94-2.06-.94 2.06-2.06.94z\"/><path d=\"M17.41 7.96l-1.37-1.37c-.4-.4-.92-.59-1.43-.59-.52 0-1.04.2-1.43.59L10.3 9.45l-7.72 7.72c-.78.78-.78 2.05 0 2.83L4 21.41c.39.39.9.59 1.41.59.51 0 1.02-.2 1.41-.59l7.78-7.78 2.81-2.81c.8-.78.8-2.07 0-2.86zM5.41 20L4 18.59l7.72-7.72 1.47 1.35L5.41 20z\"/>\n",
              "  </svg>\n",
              "      </button>\n",
              "      \n",
              "  <style>\n",
              "    .colab-df-container {\n",
              "      display:flex;\n",
              "      flex-wrap:wrap;\n",
              "      gap: 12px;\n",
              "    }\n",
              "\n",
              "    .colab-df-convert {\n",
              "      background-color: #E8F0FE;\n",
              "      border: none;\n",
              "      border-radius: 50%;\n",
              "      cursor: pointer;\n",
              "      display: none;\n",
              "      fill: #1967D2;\n",
              "      height: 32px;\n",
              "      padding: 0 0 0 0;\n",
              "      width: 32px;\n",
              "    }\n",
              "\n",
              "    .colab-df-convert:hover {\n",
              "      background-color: #E2EBFA;\n",
              "      box-shadow: 0px 1px 2px rgba(60, 64, 67, 0.3), 0px 1px 3px 1px rgba(60, 64, 67, 0.15);\n",
              "      fill: #174EA6;\n",
              "    }\n",
              "\n",
              "    [theme=dark] .colab-df-convert {\n",
              "      background-color: #3B4455;\n",
              "      fill: #D2E3FC;\n",
              "    }\n",
              "\n",
              "    [theme=dark] .colab-df-convert:hover {\n",
              "      background-color: #434B5C;\n",
              "      box-shadow: 0px 1px 3px 1px rgba(0, 0, 0, 0.15);\n",
              "      filter: drop-shadow(0px 1px 2px rgba(0, 0, 0, 0.3));\n",
              "      fill: #FFFFFF;\n",
              "    }\n",
              "  </style>\n",
              "\n",
              "      <script>\n",
              "        const buttonEl =\n",
              "          document.querySelector('#df-fed6ea6c-fdce-4ed6-8fc8-d60596095638 button.colab-df-convert');\n",
              "        buttonEl.style.display =\n",
              "          google.colab.kernel.accessAllowed ? 'block' : 'none';\n",
              "\n",
              "        async function convertToInteractive(key) {\n",
              "          const element = document.querySelector('#df-fed6ea6c-fdce-4ed6-8fc8-d60596095638');\n",
              "          const dataTable =\n",
              "            await google.colab.kernel.invokeFunction('convertToInteractive',\n",
              "                                                     [key], {});\n",
              "          if (!dataTable) return;\n",
              "\n",
              "          const docLinkHtml = 'Like what you see? Visit the ' +\n",
              "            '<a target=\"_blank\" href=https://colab.research.google.com/notebooks/data_table.ipynb>data table notebook</a>'\n",
              "            + ' to learn more about interactive tables.';\n",
              "          element.innerHTML = '';\n",
              "          dataTable['output_type'] = 'display_data';\n",
              "          await google.colab.output.renderOutput(dataTable, element);\n",
              "          const docLink = document.createElement('div');\n",
              "          docLink.innerHTML = docLinkHtml;\n",
              "          element.appendChild(docLink);\n",
              "        }\n",
              "      </script>\n",
              "    </div>\n",
              "  </div>\n",
              "  "
            ]
          },
          "metadata": {},
          "execution_count": 21
        }
      ]
    },
    {
      "cell_type": "code",
      "source": [
        "learn_split = data_df.loc[:'2022-09-30']\n",
        "test_split = data_df.loc['2022-10-01':'2022-12-08']"
      ],
      "metadata": {
        "id": "Ai53ElAYzF2q"
      },
      "execution_count": null,
      "outputs": []
    },
    {
      "cell_type": "code",
      "source": [
        "X_train, X_val = temporal_train_test_split(learn_split, test_size=0.2)\n",
        "X_test = test_split"
      ],
      "metadata": {
        "id": "J4g18WIe1E9U"
      },
      "execution_count": null,
      "outputs": []
    },
    {
      "cell_type": "code",
      "source": [
        "y_train = X_train.pop('label')\n",
        "y_val = X_val.pop('label')\n",
        "y_test = X_test.pop('label')"
      ],
      "metadata": {
        "id": "8q0O5IQZ2SOk"
      },
      "execution_count": null,
      "outputs": []
    },
    {
      "cell_type": "code",
      "source": [
        "y_train.value_counts(normalize=True)"
      ],
      "metadata": {
        "colab": {
          "base_uri": "https://localhost:8080/"
        },
        "id": "bK3C-OPu2V73",
        "outputId": "1089b0e1-f3a7-435f-e696-c4e66f825f22"
      },
      "execution_count": null,
      "outputs": [
        {
          "output_type": "execute_result",
          "data": {
            "text/plain": [
              "NOP    0.910646\n",
              "Y      0.048898\n",
              "X      0.040456\n",
              "Name: label, dtype: float64"
            ]
          },
          "metadata": {},
          "execution_count": 25
        }
      ]
    },
    {
      "cell_type": "code",
      "source": [
        "y_val.value_counts(normalize=True)"
      ],
      "metadata": {
        "colab": {
          "base_uri": "https://localhost:8080/"
        },
        "id": "KFM4zY9B2Xs9",
        "outputId": "365494e2-8674-483d-ddba-5c815d8df3fa"
      },
      "execution_count": null,
      "outputs": [
        {
          "output_type": "execute_result",
          "data": {
            "text/plain": [
              "NOP    0.943446\n",
              "X      0.029811\n",
              "Y      0.026743\n",
              "Name: label, dtype: float64"
            ]
          },
          "metadata": {},
          "execution_count": 26
        }
      ]
    },
    {
      "cell_type": "code",
      "source": [
        "y_test.value_counts(normalize=True)"
      ],
      "metadata": {
        "colab": {
          "base_uri": "https://localhost:8080/"
        },
        "id": "1v3STj_c22bY",
        "outputId": "01e9dcf9-e086-4e37-a903-9596c9f8892b"
      },
      "execution_count": null,
      "outputs": [
        {
          "output_type": "execute_result",
          "data": {
            "text/plain": [
              "NOP    0.912655\n",
              "X      0.055512\n",
              "Y      0.031832\n",
              "Name: label, dtype: float64"
            ]
          },
          "metadata": {},
          "execution_count": 27
        }
      ]
    },
    {
      "cell_type": "code",
      "source": [
        "from imblearn.over_sampling import RandomOverSampler\n",
        "from imblearn.combine import SMOTETomek"
      ],
      "metadata": {
        "id": "IQISku6427Hj"
      },
      "execution_count": null,
      "outputs": []
    },
    {
      "cell_type": "code",
      "source": [
        "smt = SMOTETomek(random_state=42)\n",
        "X_resampled, y_resampled = smt.fit_resample(X_train, y_train)"
      ],
      "metadata": {
        "id": "4zgIzSAT28aw"
      },
      "execution_count": null,
      "outputs": []
    },
    {
      "cell_type": "code",
      "source": [
        "from sklearn.model_selection import train_test_split\n",
        "X_resampled_train, X_resampled_test, y_resampled_train, y_resampled_test = train_test_split(X_resampled, y_resampled, test_size=0.2, random_state=42)"
      ],
      "metadata": {
        "id": "Qit1Qfm13C3i"
      },
      "execution_count": null,
      "outputs": []
    },
    {
      "cell_type": "code",
      "source": [
        "automl.fit(X_resampled_train, y_resampled_train, \n",
        "          task=\"classification\", \n",
        "          X_val=X_resampled_test, y_val=y_resampled_test, \n",
        "          time_budget=60*10, \n",
        "          log_file_name='.segment_automl_baseline2_10m.log', \n",
        "          estimator_list=[\"lgbm\"])"
      ],
      "metadata": {
        "colab": {
          "base_uri": "https://localhost:8080/"
        },
        "id": "nIbnqi9E3FxR",
        "outputId": "7d6a7fbb-650c-4ff0-bc46-614d580502a8"
      },
      "execution_count": null,
      "outputs": [
        {
          "output_type": "stream",
          "name": "stderr",
          "text": [
            "[flaml.automl: 12-09 12:29:16] {2599} INFO - task = classification\n",
            "INFO:flaml.automl:task = classification\n",
            "[flaml.automl: 12-09 12:29:16] {2601} INFO - Data split method: stratified\n",
            "INFO:flaml.automl:Data split method: stratified\n",
            "[flaml.automl: 12-09 12:29:16] {2604} INFO - Evaluation method: holdout\n",
            "INFO:flaml.automl:Evaluation method: holdout\n",
            "[flaml.automl: 12-09 12:29:16] {2726} INFO - Minimizing error metric: log_loss\n",
            "INFO:flaml.automl:Minimizing error metric: log_loss\n",
            "[flaml.automl: 12-09 12:29:16] {2870} INFO - List of ML learners in AutoML Run: ['lgbm']\n",
            "INFO:flaml.automl:List of ML learners in AutoML Run: ['lgbm']\n",
            "[flaml.automl: 12-09 12:29:16] {3166} INFO - iteration 0, current learner lgbm\n",
            "INFO:flaml.automl:iteration 0, current learner lgbm\n",
            "[flaml.automl: 12-09 12:29:16] {3296} INFO - Estimated sufficient time budget=2489s. Estimated necessary time budget=2s.\n",
            "INFO:flaml.automl:Estimated sufficient time budget=2489s. Estimated necessary time budget=2s.\n",
            "[flaml.automl: 12-09 12:29:16] {3343} INFO -  at 0.5s,\testimator lgbm's best error=1.0303,\tbest estimator lgbm's best error=1.0303\n",
            "INFO:flaml.automl: at 0.5s,\testimator lgbm's best error=1.0303,\tbest estimator lgbm's best error=1.0303\n",
            "[flaml.automl: 12-09 12:29:16] {3166} INFO - iteration 1, current learner lgbm\n",
            "INFO:flaml.automl:iteration 1, current learner lgbm\n",
            "[flaml.automl: 12-09 12:29:16] {3343} INFO -  at 0.7s,\testimator lgbm's best error=1.0303,\tbest estimator lgbm's best error=1.0303\n",
            "INFO:flaml.automl: at 0.7s,\testimator lgbm's best error=1.0303,\tbest estimator lgbm's best error=1.0303\n",
            "[flaml.automl: 12-09 12:29:16] {3166} INFO - iteration 2, current learner lgbm\n",
            "INFO:flaml.automl:iteration 2, current learner lgbm\n",
            "[flaml.automl: 12-09 12:29:16] {3343} INFO -  at 0.8s,\testimator lgbm's best error=0.9563,\tbest estimator lgbm's best error=0.9563\n",
            "INFO:flaml.automl: at 0.8s,\testimator lgbm's best error=0.9563,\tbest estimator lgbm's best error=0.9563\n",
            "[flaml.automl: 12-09 12:29:16] {3166} INFO - iteration 3, current learner lgbm\n",
            "INFO:flaml.automl:iteration 3, current learner lgbm\n",
            "[flaml.automl: 12-09 12:29:16] {3343} INFO -  at 1.0s,\testimator lgbm's best error=0.7786,\tbest estimator lgbm's best error=0.7786\n",
            "INFO:flaml.automl: at 1.0s,\testimator lgbm's best error=0.7786,\tbest estimator lgbm's best error=0.7786\n",
            "[flaml.automl: 12-09 12:29:16] {3166} INFO - iteration 4, current learner lgbm\n",
            "INFO:flaml.automl:iteration 4, current learner lgbm\n",
            "[flaml.automl: 12-09 12:29:16] {3343} INFO -  at 1.1s,\testimator lgbm's best error=0.7786,\tbest estimator lgbm's best error=0.7786\n",
            "INFO:flaml.automl: at 1.1s,\testimator lgbm's best error=0.7786,\tbest estimator lgbm's best error=0.7786\n",
            "[flaml.automl: 12-09 12:29:16] {3166} INFO - iteration 5, current learner lgbm\n",
            "INFO:flaml.automl:iteration 5, current learner lgbm\n",
            "[flaml.automl: 12-09 12:29:17] {3343} INFO -  at 1.3s,\testimator lgbm's best error=0.7284,\tbest estimator lgbm's best error=0.7284\n",
            "INFO:flaml.automl: at 1.3s,\testimator lgbm's best error=0.7284,\tbest estimator lgbm's best error=0.7284\n",
            "[flaml.automl: 12-09 12:29:17] {3166} INFO - iteration 6, current learner lgbm\n",
            "INFO:flaml.automl:iteration 6, current learner lgbm\n",
            "[flaml.automl: 12-09 12:29:17] {3343} INFO -  at 1.5s,\testimator lgbm's best error=0.7284,\tbest estimator lgbm's best error=0.7284\n",
            "INFO:flaml.automl: at 1.5s,\testimator lgbm's best error=0.7284,\tbest estimator lgbm's best error=0.7284\n",
            "[flaml.automl: 12-09 12:29:17] {3166} INFO - iteration 7, current learner lgbm\n",
            "INFO:flaml.automl:iteration 7, current learner lgbm\n",
            "[flaml.automl: 12-09 12:29:17] {3343} INFO -  at 1.6s,\testimator lgbm's best error=0.7284,\tbest estimator lgbm's best error=0.7284\n",
            "INFO:flaml.automl: at 1.6s,\testimator lgbm's best error=0.7284,\tbest estimator lgbm's best error=0.7284\n",
            "[flaml.automl: 12-09 12:29:17] {3166} INFO - iteration 8, current learner lgbm\n",
            "INFO:flaml.automl:iteration 8, current learner lgbm\n",
            "[flaml.automl: 12-09 12:29:17] {3343} INFO -  at 1.9s,\testimator lgbm's best error=0.6762,\tbest estimator lgbm's best error=0.6762\n",
            "INFO:flaml.automl: at 1.9s,\testimator lgbm's best error=0.6762,\tbest estimator lgbm's best error=0.6762\n",
            "[flaml.automl: 12-09 12:29:17] {3166} INFO - iteration 9, current learner lgbm\n",
            "INFO:flaml.automl:iteration 9, current learner lgbm\n",
            "[flaml.automl: 12-09 12:29:17] {3343} INFO -  at 2.0s,\testimator lgbm's best error=0.6762,\tbest estimator lgbm's best error=0.6762\n",
            "INFO:flaml.automl: at 2.0s,\testimator lgbm's best error=0.6762,\tbest estimator lgbm's best error=0.6762\n",
            "[flaml.automl: 12-09 12:29:17] {3166} INFO - iteration 10, current learner lgbm\n",
            "INFO:flaml.automl:iteration 10, current learner lgbm\n",
            "[flaml.automl: 12-09 12:29:19] {3343} INFO -  at 3.3s,\testimator lgbm's best error=0.2140,\tbest estimator lgbm's best error=0.2140\n",
            "INFO:flaml.automl: at 3.3s,\testimator lgbm's best error=0.2140,\tbest estimator lgbm's best error=0.2140\n",
            "[flaml.automl: 12-09 12:29:19] {3166} INFO - iteration 11, current learner lgbm\n",
            "INFO:flaml.automl:iteration 11, current learner lgbm\n",
            "[flaml.automl: 12-09 12:29:21] {3343} INFO -  at 5.8s,\testimator lgbm's best error=0.0764,\tbest estimator lgbm's best error=0.0764\n",
            "INFO:flaml.automl: at 5.8s,\testimator lgbm's best error=0.0764,\tbest estimator lgbm's best error=0.0764\n",
            "[flaml.automl: 12-09 12:29:21] {3166} INFO - iteration 12, current learner lgbm\n",
            "INFO:flaml.automl:iteration 12, current learner lgbm\n",
            "[flaml.automl: 12-09 12:29:22] {3343} INFO -  at 7.1s,\testimator lgbm's best error=0.0764,\tbest estimator lgbm's best error=0.0764\n",
            "INFO:flaml.automl: at 7.1s,\testimator lgbm's best error=0.0764,\tbest estimator lgbm's best error=0.0764\n",
            "[flaml.automl: 12-09 12:29:22] {3166} INFO - iteration 13, current learner lgbm\n",
            "INFO:flaml.automl:iteration 13, current learner lgbm\n",
            "[flaml.automl: 12-09 12:29:24] {3343} INFO -  at 8.8s,\testimator lgbm's best error=0.0764,\tbest estimator lgbm's best error=0.0764\n",
            "INFO:flaml.automl: at 8.8s,\testimator lgbm's best error=0.0764,\tbest estimator lgbm's best error=0.0764\n",
            "[flaml.automl: 12-09 12:29:24] {3166} INFO - iteration 14, current learner lgbm\n",
            "INFO:flaml.automl:iteration 14, current learner lgbm\n",
            "[flaml.automl: 12-09 12:29:27] {3343} INFO -  at 11.6s,\testimator lgbm's best error=0.0621,\tbest estimator lgbm's best error=0.0621\n",
            "INFO:flaml.automl: at 11.6s,\testimator lgbm's best error=0.0621,\tbest estimator lgbm's best error=0.0621\n",
            "[flaml.automl: 12-09 12:29:27] {3166} INFO - iteration 15, current learner lgbm\n",
            "INFO:flaml.automl:iteration 15, current learner lgbm\n",
            "[flaml.automl: 12-09 12:29:29] {3343} INFO -  at 13.4s,\testimator lgbm's best error=0.0621,\tbest estimator lgbm's best error=0.0621\n",
            "INFO:flaml.automl: at 13.4s,\testimator lgbm's best error=0.0621,\tbest estimator lgbm's best error=0.0621\n",
            "[flaml.automl: 12-09 12:29:29] {3166} INFO - iteration 16, current learner lgbm\n",
            "INFO:flaml.automl:iteration 16, current learner lgbm\n",
            "[flaml.automl: 12-09 12:29:35] {3343} INFO -  at 19.4s,\testimator lgbm's best error=0.0621,\tbest estimator lgbm's best error=0.0621\n",
            "INFO:flaml.automl: at 19.4s,\testimator lgbm's best error=0.0621,\tbest estimator lgbm's best error=0.0621\n",
            "[flaml.automl: 12-09 12:29:35] {3166} INFO - iteration 17, current learner lgbm\n",
            "INFO:flaml.automl:iteration 17, current learner lgbm\n",
            "[flaml.automl: 12-09 12:29:43] {3343} INFO -  at 27.5s,\testimator lgbm's best error=0.0581,\tbest estimator lgbm's best error=0.0581\n",
            "INFO:flaml.automl: at 27.5s,\testimator lgbm's best error=0.0581,\tbest estimator lgbm's best error=0.0581\n",
            "[flaml.automl: 12-09 12:29:43] {3166} INFO - iteration 18, current learner lgbm\n",
            "INFO:flaml.automl:iteration 18, current learner lgbm\n",
            "[flaml.automl: 12-09 12:29:45] {3343} INFO -  at 30.2s,\testimator lgbm's best error=0.0581,\tbest estimator lgbm's best error=0.0581\n",
            "INFO:flaml.automl: at 30.2s,\testimator lgbm's best error=0.0581,\tbest estimator lgbm's best error=0.0581\n",
            "[flaml.automl: 12-09 12:29:45] {3166} INFO - iteration 19, current learner lgbm\n",
            "INFO:flaml.automl:iteration 19, current learner lgbm\n",
            "[flaml.automl: 12-09 12:29:49] {3343} INFO -  at 33.4s,\testimator lgbm's best error=0.0581,\tbest estimator lgbm's best error=0.0581\n",
            "INFO:flaml.automl: at 33.4s,\testimator lgbm's best error=0.0581,\tbest estimator lgbm's best error=0.0581\n",
            "[flaml.automl: 12-09 12:29:49] {3166} INFO - iteration 20, current learner lgbm\n",
            "INFO:flaml.automl:iteration 20, current learner lgbm\n",
            "[flaml.automl: 12-09 12:30:03] {3343} INFO -  at 48.0s,\testimator lgbm's best error=0.0581,\tbest estimator lgbm's best error=0.0581\n",
            "INFO:flaml.automl: at 48.0s,\testimator lgbm's best error=0.0581,\tbest estimator lgbm's best error=0.0581\n",
            "[flaml.automl: 12-09 12:30:03] {3166} INFO - iteration 21, current learner lgbm\n",
            "INFO:flaml.automl:iteration 21, current learner lgbm\n",
            "[flaml.automl: 12-09 12:30:09] {3343} INFO -  at 54.1s,\testimator lgbm's best error=0.0581,\tbest estimator lgbm's best error=0.0581\n",
            "INFO:flaml.automl: at 54.1s,\testimator lgbm's best error=0.0581,\tbest estimator lgbm's best error=0.0581\n",
            "[flaml.automl: 12-09 12:30:09] {3166} INFO - iteration 22, current learner lgbm\n",
            "INFO:flaml.automl:iteration 22, current learner lgbm\n",
            "[flaml.automl: 12-09 12:30:15] {3343} INFO -  at 59.7s,\testimator lgbm's best error=0.0581,\tbest estimator lgbm's best error=0.0581\n",
            "INFO:flaml.automl: at 59.7s,\testimator lgbm's best error=0.0581,\tbest estimator lgbm's best error=0.0581\n",
            "[flaml.automl: 12-09 12:30:15] {3166} INFO - iteration 23, current learner lgbm\n",
            "INFO:flaml.automl:iteration 23, current learner lgbm\n",
            "[flaml.automl: 12-09 12:30:26] {3343} INFO -  at 70.6s,\testimator lgbm's best error=0.0572,\tbest estimator lgbm's best error=0.0572\n",
            "INFO:flaml.automl: at 70.6s,\testimator lgbm's best error=0.0572,\tbest estimator lgbm's best error=0.0572\n",
            "[flaml.automl: 12-09 12:30:26] {3166} INFO - iteration 24, current learner lgbm\n",
            "INFO:flaml.automl:iteration 24, current learner lgbm\n",
            "[flaml.automl: 12-09 12:30:35] {3343} INFO -  at 79.3s,\testimator lgbm's best error=0.0572,\tbest estimator lgbm's best error=0.0572\n",
            "INFO:flaml.automl: at 79.3s,\testimator lgbm's best error=0.0572,\tbest estimator lgbm's best error=0.0572\n",
            "[flaml.automl: 12-09 12:30:35] {3166} INFO - iteration 25, current learner lgbm\n",
            "INFO:flaml.automl:iteration 25, current learner lgbm\n",
            "[flaml.automl: 12-09 12:31:11] {3343} INFO -  at 115.6s,\testimator lgbm's best error=0.0572,\tbest estimator lgbm's best error=0.0572\n",
            "INFO:flaml.automl: at 115.6s,\testimator lgbm's best error=0.0572,\tbest estimator lgbm's best error=0.0572\n",
            "[flaml.automl: 12-09 12:31:11] {3166} INFO - iteration 26, current learner lgbm\n",
            "INFO:flaml.automl:iteration 26, current learner lgbm\n",
            "[flaml.automl: 12-09 12:31:14] {3343} INFO -  at 118.4s,\testimator lgbm's best error=0.0572,\tbest estimator lgbm's best error=0.0572\n",
            "INFO:flaml.automl: at 118.4s,\testimator lgbm's best error=0.0572,\tbest estimator lgbm's best error=0.0572\n",
            "[flaml.automl: 12-09 12:31:14] {3166} INFO - iteration 27, current learner lgbm\n",
            "INFO:flaml.automl:iteration 27, current learner lgbm\n",
            "[flaml.automl: 12-09 12:31:24] {3343} INFO -  at 128.3s,\testimator lgbm's best error=0.0572,\tbest estimator lgbm's best error=0.0572\n",
            "INFO:flaml.automl: at 128.3s,\testimator lgbm's best error=0.0572,\tbest estimator lgbm's best error=0.0572\n",
            "[flaml.automl: 12-09 12:31:24] {3166} INFO - iteration 28, current learner lgbm\n",
            "INFO:flaml.automl:iteration 28, current learner lgbm\n",
            "[flaml.automl: 12-09 12:31:27] {3343} INFO -  at 132.1s,\testimator lgbm's best error=0.0572,\tbest estimator lgbm's best error=0.0572\n",
            "INFO:flaml.automl: at 132.1s,\testimator lgbm's best error=0.0572,\tbest estimator lgbm's best error=0.0572\n",
            "[flaml.automl: 12-09 12:31:27] {3166} INFO - iteration 29, current learner lgbm\n",
            "INFO:flaml.automl:iteration 29, current learner lgbm\n",
            "[flaml.automl: 12-09 12:31:48] {3343} INFO -  at 152.7s,\testimator lgbm's best error=0.0572,\tbest estimator lgbm's best error=0.0572\n",
            "INFO:flaml.automl: at 152.7s,\testimator lgbm's best error=0.0572,\tbest estimator lgbm's best error=0.0572\n",
            "[flaml.automl: 12-09 12:31:48] {3166} INFO - iteration 30, current learner lgbm\n",
            "INFO:flaml.automl:iteration 30, current learner lgbm\n",
            "[flaml.automl: 12-09 12:32:01] {3343} INFO -  at 165.3s,\testimator lgbm's best error=0.0572,\tbest estimator lgbm's best error=0.0572\n",
            "INFO:flaml.automl: at 165.3s,\testimator lgbm's best error=0.0572,\tbest estimator lgbm's best error=0.0572\n",
            "[flaml.automl: 12-09 12:32:01] {3166} INFO - iteration 31, current learner lgbm\n",
            "INFO:flaml.automl:iteration 31, current learner lgbm\n",
            "[flaml.automl: 12-09 12:32:05] {3343} INFO -  at 170.1s,\testimator lgbm's best error=0.0572,\tbest estimator lgbm's best error=0.0572\n",
            "INFO:flaml.automl: at 170.1s,\testimator lgbm's best error=0.0572,\tbest estimator lgbm's best error=0.0572\n",
            "[flaml.automl: 12-09 12:32:05] {3166} INFO - iteration 32, current learner lgbm\n",
            "INFO:flaml.automl:iteration 32, current learner lgbm\n",
            "[flaml.automl: 12-09 12:32:19] {3343} INFO -  at 184.1s,\testimator lgbm's best error=0.0564,\tbest estimator lgbm's best error=0.0564\n",
            "INFO:flaml.automl: at 184.1s,\testimator lgbm's best error=0.0564,\tbest estimator lgbm's best error=0.0564\n",
            "[flaml.automl: 12-09 12:32:19] {3166} INFO - iteration 33, current learner lgbm\n",
            "INFO:flaml.automl:iteration 33, current learner lgbm\n",
            "[flaml.automl: 12-09 12:32:28] {3343} INFO -  at 192.3s,\testimator lgbm's best error=0.0564,\tbest estimator lgbm's best error=0.0564\n",
            "INFO:flaml.automl: at 192.3s,\testimator lgbm's best error=0.0564,\tbest estimator lgbm's best error=0.0564\n",
            "[flaml.automl: 12-09 12:32:28] {3166} INFO - iteration 34, current learner lgbm\n",
            "INFO:flaml.automl:iteration 34, current learner lgbm\n",
            "[flaml.automl: 12-09 12:32:36] {3343} INFO -  at 200.7s,\testimator lgbm's best error=0.0546,\tbest estimator lgbm's best error=0.0546\n",
            "INFO:flaml.automl: at 200.7s,\testimator lgbm's best error=0.0546,\tbest estimator lgbm's best error=0.0546\n",
            "[flaml.automl: 12-09 12:32:36] {3166} INFO - iteration 35, current learner lgbm\n",
            "INFO:flaml.automl:iteration 35, current learner lgbm\n",
            "[flaml.automl: 12-09 12:32:48] {3343} INFO -  at 212.7s,\testimator lgbm's best error=0.0546,\tbest estimator lgbm's best error=0.0546\n",
            "INFO:flaml.automl: at 212.7s,\testimator lgbm's best error=0.0546,\tbest estimator lgbm's best error=0.0546\n",
            "[flaml.automl: 12-09 12:32:48] {3166} INFO - iteration 36, current learner lgbm\n",
            "INFO:flaml.automl:iteration 36, current learner lgbm\n",
            "[flaml.automl: 12-09 12:32:50] {3343} INFO -  at 214.3s,\testimator lgbm's best error=0.0546,\tbest estimator lgbm's best error=0.0546\n",
            "INFO:flaml.automl: at 214.3s,\testimator lgbm's best error=0.0546,\tbest estimator lgbm's best error=0.0546\n",
            "[flaml.automl: 12-09 12:32:50] {3166} INFO - iteration 37, current learner lgbm\n",
            "INFO:flaml.automl:iteration 37, current learner lgbm\n",
            "[flaml.automl: 12-09 12:33:05] {3343} INFO -  at 229.6s,\testimator lgbm's best error=0.0546,\tbest estimator lgbm's best error=0.0546\n",
            "INFO:flaml.automl: at 229.6s,\testimator lgbm's best error=0.0546,\tbest estimator lgbm's best error=0.0546\n",
            "[flaml.automl: 12-09 12:33:05] {3166} INFO - iteration 38, current learner lgbm\n",
            "INFO:flaml.automl:iteration 38, current learner lgbm\n",
            "[flaml.automl: 12-09 12:33:08] {3343} INFO -  at 232.5s,\testimator lgbm's best error=0.0546,\tbest estimator lgbm's best error=0.0546\n",
            "INFO:flaml.automl: at 232.5s,\testimator lgbm's best error=0.0546,\tbest estimator lgbm's best error=0.0546\n",
            "[flaml.automl: 12-09 12:33:08] {3166} INFO - iteration 39, current learner lgbm\n",
            "INFO:flaml.automl:iteration 39, current learner lgbm\n",
            "[flaml.automl: 12-09 12:33:17] {3343} INFO -  at 242.0s,\testimator lgbm's best error=0.0546,\tbest estimator lgbm's best error=0.0546\n",
            "INFO:flaml.automl: at 242.0s,\testimator lgbm's best error=0.0546,\tbest estimator lgbm's best error=0.0546\n",
            "[flaml.automl: 12-09 12:33:17] {3166} INFO - iteration 40, current learner lgbm\n",
            "INFO:flaml.automl:iteration 40, current learner lgbm\n",
            "[flaml.automl: 12-09 12:33:18] {3343} INFO -  at 243.0s,\testimator lgbm's best error=0.0546,\tbest estimator lgbm's best error=0.0546\n",
            "INFO:flaml.automl: at 243.0s,\testimator lgbm's best error=0.0546,\tbest estimator lgbm's best error=0.0546\n",
            "[flaml.automl: 12-09 12:33:18] {3166} INFO - iteration 41, current learner lgbm\n",
            "INFO:flaml.automl:iteration 41, current learner lgbm\n",
            "[flaml.automl: 12-09 12:33:19] {3343} INFO -  at 243.9s,\testimator lgbm's best error=0.0546,\tbest estimator lgbm's best error=0.0546\n",
            "INFO:flaml.automl: at 243.9s,\testimator lgbm's best error=0.0546,\tbest estimator lgbm's best error=0.0546\n",
            "[flaml.automl: 12-09 12:33:19] {3166} INFO - iteration 42, current learner lgbm\n",
            "INFO:flaml.automl:iteration 42, current learner lgbm\n",
            "[flaml.automl: 12-09 12:33:49] {3343} INFO -  at 273.8s,\testimator lgbm's best error=0.0545,\tbest estimator lgbm's best error=0.0545\n",
            "INFO:flaml.automl: at 273.8s,\testimator lgbm's best error=0.0545,\tbest estimator lgbm's best error=0.0545\n",
            "[flaml.automl: 12-09 12:33:49] {3166} INFO - iteration 43, current learner lgbm\n",
            "INFO:flaml.automl:iteration 43, current learner lgbm\n",
            "[flaml.automl: 12-09 12:34:18] {3343} INFO -  at 303.0s,\testimator lgbm's best error=0.0538,\tbest estimator lgbm's best error=0.0538\n",
            "INFO:flaml.automl: at 303.0s,\testimator lgbm's best error=0.0538,\tbest estimator lgbm's best error=0.0538\n",
            "[flaml.automl: 12-09 12:34:18] {3166} INFO - iteration 44, current learner lgbm\n",
            "INFO:flaml.automl:iteration 44, current learner lgbm\n",
            "[flaml.automl: 12-09 12:34:47] {3343} INFO -  at 331.7s,\testimator lgbm's best error=0.0538,\tbest estimator lgbm's best error=0.0538\n",
            "INFO:flaml.automl: at 331.7s,\testimator lgbm's best error=0.0538,\tbest estimator lgbm's best error=0.0538\n",
            "[flaml.automl: 12-09 12:34:47] {3166} INFO - iteration 45, current learner lgbm\n",
            "INFO:flaml.automl:iteration 45, current learner lgbm\n",
            "[flaml.automl: 12-09 12:34:57] {3343} INFO -  at 341.8s,\testimator lgbm's best error=0.0538,\tbest estimator lgbm's best error=0.0538\n",
            "INFO:flaml.automl: at 341.8s,\testimator lgbm's best error=0.0538,\tbest estimator lgbm's best error=0.0538\n",
            "[flaml.automl: 12-09 12:34:57] {3166} INFO - iteration 46, current learner lgbm\n",
            "INFO:flaml.automl:iteration 46, current learner lgbm\n",
            "[flaml.automl: 12-09 12:35:45] {3343} INFO -  at 389.2s,\testimator lgbm's best error=0.0521,\tbest estimator lgbm's best error=0.0521\n",
            "INFO:flaml.automl: at 389.2s,\testimator lgbm's best error=0.0521,\tbest estimator lgbm's best error=0.0521\n",
            "[flaml.automl: 12-09 12:35:45] {3166} INFO - iteration 47, current learner lgbm\n",
            "INFO:flaml.automl:iteration 47, current learner lgbm\n",
            "[flaml.automl: 12-09 12:35:57] {3343} INFO -  at 401.8s,\testimator lgbm's best error=0.0497,\tbest estimator lgbm's best error=0.0497\n",
            "INFO:flaml.automl: at 401.8s,\testimator lgbm's best error=0.0497,\tbest estimator lgbm's best error=0.0497\n",
            "[flaml.automl: 12-09 12:35:57] {3166} INFO - iteration 48, current learner lgbm\n",
            "INFO:flaml.automl:iteration 48, current learner lgbm\n",
            "[flaml.automl: 12-09 12:36:52] {3343} INFO -  at 456.7s,\testimator lgbm's best error=0.0497,\tbest estimator lgbm's best error=0.0497\n",
            "INFO:flaml.automl: at 456.7s,\testimator lgbm's best error=0.0497,\tbest estimator lgbm's best error=0.0497\n",
            "[flaml.automl: 12-09 12:36:52] {3166} INFO - iteration 49, current learner lgbm\n",
            "INFO:flaml.automl:iteration 49, current learner lgbm\n",
            "[flaml.automl: 12-09 12:37:01] {3343} INFO -  at 465.4s,\testimator lgbm's best error=0.0497,\tbest estimator lgbm's best error=0.0497\n",
            "INFO:flaml.automl: at 465.4s,\testimator lgbm's best error=0.0497,\tbest estimator lgbm's best error=0.0497\n",
            "[flaml.automl: 12-09 12:37:01] {3166} INFO - iteration 50, current learner lgbm\n",
            "INFO:flaml.automl:iteration 50, current learner lgbm\n",
            "[flaml.automl: 12-09 12:37:42] {3343} INFO -  at 506.4s,\testimator lgbm's best error=0.0497,\tbest estimator lgbm's best error=0.0497\n",
            "INFO:flaml.automl: at 506.4s,\testimator lgbm's best error=0.0497,\tbest estimator lgbm's best error=0.0497\n",
            "[flaml.automl: 12-09 12:37:42] {3166} INFO - iteration 51, current learner lgbm\n",
            "INFO:flaml.automl:iteration 51, current learner lgbm\n",
            "[flaml.automl: 12-09 12:38:47] {3343} INFO -  at 571.4s,\testimator lgbm's best error=0.0489,\tbest estimator lgbm's best error=0.0489\n",
            "INFO:flaml.automl: at 571.4s,\testimator lgbm's best error=0.0489,\tbest estimator lgbm's best error=0.0489\n",
            "[flaml.automl: 12-09 12:38:47] {3459} INFO - selected model: LGBMClassifier(colsample_bytree=0.7511603878706435,\n",
            "               learning_rate=0.10309947349669198, max_bin=1023,\n",
            "               min_child_samples=9, n_estimators=11802, num_leaves=64,\n",
            "               reg_alpha=0.0038180451182602076, reg_lambda=0.001381555458888781,\n",
            "               verbose=-1)\n",
            "INFO:flaml.automl:selected model: LGBMClassifier(colsample_bytree=0.7511603878706435,\n",
            "               learning_rate=0.10309947349669198, max_bin=1023,\n",
            "               min_child_samples=9, n_estimators=11802, num_leaves=64,\n",
            "               reg_alpha=0.0038180451182602076, reg_lambda=0.001381555458888781,\n",
            "               verbose=-1)\n",
            "[flaml.automl: 12-09 12:38:47] {2901} INFO - fit succeeded\n",
            "INFO:flaml.automl:fit succeeded\n",
            "[flaml.automl: 12-09 12:38:47] {2902} INFO - Time taken to find the best model: 571.3757190704346\n",
            "INFO:flaml.automl:Time taken to find the best model: 571.3757190704346\n",
            "[flaml.automl: 12-09 12:38:47] {2913} WARNING - Time taken to find the best model is 95% of the provided time budget and not all estimators' hyperparameter search converged. Consider increasing the time budget.\n",
            "WARNING:flaml.automl:Time taken to find the best model is 95% of the provided time budget and not all estimators' hyperparameter search converged. Consider increasing the time budget.\n"
          ]
        }
      ]
    },
    {
      "cell_type": "code",
      "source": [
        "# 모델 저징\n",
        "\n",
        "'''pickle and save the automl object'''\n",
        "import pickle\n",
        "with open('.automl_baseline2_balanced_10m.pkl', 'wb') as f:\n",
        "    pickle.dump(automl, f, pickle.HIGHEST_PROTOCOL)\n",
        "'''load pickled automl object'''\n",
        "with open('.automl_baseline2_balanced_10m.pkl', 'rb') as f:\n",
        "    automl = pickle.load(f)"
      ],
      "metadata": {
        "id": "CSNxrh8F3c6V"
      },
      "execution_count": null,
      "outputs": []
    },
    {
      "cell_type": "code",
      "source": [
        "'''retrieve best config and best learner'''\n",
        "print('Best ML leaner:', automl.best_estimator)\n",
        "print('Best hyperparmeter config:', automl.best_config)\n",
        "print('Best loss on validation data: {0:.4g}'.format(automl.best_loss))\n",
        "print('Training duration of best run: {0:.4g} s'.format(automl.best_config_train_time))\n"
      ],
      "metadata": {
        "colab": {
          "base_uri": "https://localhost:8080/"
        },
        "id": "JCv7FnlZ3mX8",
        "outputId": "41d6f865-692b-4fc3-e809-e75282f5c7b9"
      },
      "execution_count": null,
      "outputs": [
        {
          "output_type": "stream",
          "name": "stdout",
          "text": [
            "Best ML leaner: lgbm\n",
            "Best hyperparmeter config: {'n_estimators': 11802, 'num_leaves': 64, 'min_child_samples': 9, 'learning_rate': 0.10309947349669198, 'log_max_bin': 10, 'colsample_bytree': 0.7511603878706435, 'reg_alpha': 0.0038180451182602076, 'reg_lambda': 0.001381555458888781}\n",
            "Best loss on validation data: 0.04887\n",
            "Training duration of best run: 64.98 s\n"
          ]
        }
      ]
    },
    {
      "cell_type": "code",
      "source": [
        "'''compute predictions of testing dataset''' \n",
        "y_pred = automl.predict(X_test)\n",
        "# print('Predicted labels', y_pred)\n",
        "# print('True labels', y_test)\n",
        "y_pred_proba = automl.predict_proba(X_test)\n"
      ],
      "metadata": {
        "id": "M9niNUzB5jgg"
      },
      "execution_count": null,
      "outputs": []
    },
    {
      "cell_type": "code",
      "source": [
        "''' compute different metric values on testing dataset'''\n",
        "from flaml.ml import sklearn_metric_loss_score\n",
        "print('accuracy', '=', 1 - sklearn_metric_loss_score('accuracy', y_pred, y_test))"
      ],
      "metadata": {
        "colab": {
          "base_uri": "https://localhost:8080/"
        },
        "id": "GrNetz2j5mYe",
        "outputId": "bc0d82fb-40ee-4a06-e01d-cd3ba64edd7e"
      },
      "execution_count": null,
      "outputs": [
        {
          "output_type": "stream",
          "name": "stdout",
          "text": [
            "accuracy = 0.1618788819875776\n"
          ]
        }
      ]
    },
    {
      "cell_type": "code",
      "source": [
        "pd.Series(y_pred).value_counts(normalize=True)"
      ],
      "metadata": {
        "colab": {
          "base_uri": "https://localhost:8080/"
        },
        "id": "jrEKQgGi5rGE",
        "outputId": "17ac6367-ede1-4fce-e195-3fe8bbb4b558"
      },
      "execution_count": null,
      "outputs": [
        {
          "output_type": "execute_result",
          "data": {
            "text/plain": [
              "Y      0.458463\n",
              "X      0.408385\n",
              "NOP    0.133152\n",
              "dtype: float64"
            ]
          },
          "metadata": {},
          "execution_count": 36
        }
      ]
    },
    {
      "cell_type": "code",
      "source": [
        "y_test.value_counts(normalize=True)\n"
      ],
      "metadata": {
        "colab": {
          "base_uri": "https://localhost:8080/"
        },
        "id": "DEeG5H795u0I",
        "outputId": "a773f7f3-04d7-47bc-f1b1-5bb946d0c204"
      },
      "execution_count": null,
      "outputs": [
        {
          "output_type": "execute_result",
          "data": {
            "text/plain": [
              "NOP    0.912655\n",
              "X      0.055512\n",
              "Y      0.031832\n",
              "Name: label, dtype: float64"
            ]
          },
          "metadata": {},
          "execution_count": 37
        }
      ]
    },
    {
      "cell_type": "code",
      "source": [
        "from flaml.data import get_output_from_log\n",
        "import matplotlib.pyplot as plt\n",
        "import numpy as np\n",
        "\n",
        "time_history, best_valid_loss_history, valid_loss_history, config_history, metric_history = \\\n",
        "    get_output_from_log(filename='.segment_automl_0.5h.log', time_budget=60)\n",
        "\n",
        "plt.title(\"Learning Curve\")\n",
        "plt.xlabel(\"Wall Clock Time (s)\")\n",
        "plt.ylabel(\"Validation loss\")\n",
        "plt.step(time_history, np.array(best_valid_loss_history), where=\"post\")\n",
        "plt.show()"
      ],
      "metadata": {
        "colab": {
          "base_uri": "https://localhost:8080/",
          "height": 397
        },
        "id": "Y192Ya1T5xfG",
        "outputId": "d6157610-e06c-48aa-9fb7-86a84bd107fe"
      },
      "execution_count": null,
      "outputs": [
        {
          "output_type": "error",
          "ename": "FileNotFoundError",
          "evalue": "ignored",
          "traceback": [
            "\u001b[0;31m---------------------------------------------------------------------------\u001b[0m",
            "\u001b[0;31mFileNotFoundError\u001b[0m                         Traceback (most recent call last)",
            "\u001b[0;32m<ipython-input-38-2fc624750738>\u001b[0m in \u001b[0;36m<module>\u001b[0;34m\u001b[0m\n\u001b[1;32m      4\u001b[0m \u001b[0;34m\u001b[0m\u001b[0m\n\u001b[1;32m      5\u001b[0m \u001b[0mtime_history\u001b[0m\u001b[0;34m,\u001b[0m \u001b[0mbest_valid_loss_history\u001b[0m\u001b[0;34m,\u001b[0m \u001b[0mvalid_loss_history\u001b[0m\u001b[0;34m,\u001b[0m \u001b[0mconfig_history\u001b[0m\u001b[0;34m,\u001b[0m \u001b[0mmetric_history\u001b[0m \u001b[0;34m=\u001b[0m\u001b[0;31m \u001b[0m\u001b[0;31m\\\u001b[0m\u001b[0;34m\u001b[0m\u001b[0;34m\u001b[0m\u001b[0m\n\u001b[0;32m----> 6\u001b[0;31m     \u001b[0mget_output_from_log\u001b[0m\u001b[0;34m(\u001b[0m\u001b[0mfilename\u001b[0m\u001b[0;34m=\u001b[0m\u001b[0;34m'.segment_automl_0.5h.log'\u001b[0m\u001b[0;34m,\u001b[0m \u001b[0mtime_budget\u001b[0m\u001b[0;34m=\u001b[0m\u001b[0;36m60\u001b[0m\u001b[0;34m)\u001b[0m\u001b[0;34m\u001b[0m\u001b[0;34m\u001b[0m\u001b[0m\n\u001b[0m\u001b[1;32m      7\u001b[0m \u001b[0;34m\u001b[0m\u001b[0m\n\u001b[1;32m      8\u001b[0m \u001b[0mplt\u001b[0m\u001b[0;34m.\u001b[0m\u001b[0mtitle\u001b[0m\u001b[0;34m(\u001b[0m\u001b[0;34m\"Learning Curve\"\u001b[0m\u001b[0;34m)\u001b[0m\u001b[0;34m\u001b[0m\u001b[0;34m\u001b[0m\u001b[0m\n",
            "\u001b[0;32m/usr/local/lib/python3.8/dist-packages/flaml/data.py\u001b[0m in \u001b[0;36mget_output_from_log\u001b[0;34m(filename, time_budget)\u001b[0m\n\u001b[1;32m    197\u001b[0m     \u001b[0mlogged_metric_list\u001b[0m \u001b[0;34m=\u001b[0m \u001b[0;34m[\u001b[0m\u001b[0;34m]\u001b[0m\u001b[0;34m\u001b[0m\u001b[0;34m\u001b[0m\u001b[0m\n\u001b[1;32m    198\u001b[0m     \u001b[0mbest_config_list\u001b[0m \u001b[0;34m=\u001b[0m \u001b[0;34m[\u001b[0m\u001b[0;34m]\u001b[0m\u001b[0;34m\u001b[0m\u001b[0;34m\u001b[0m\u001b[0m\n\u001b[0;32m--> 199\u001b[0;31m     \u001b[0;32mwith\u001b[0m \u001b[0mtraining_log_reader\u001b[0m\u001b[0;34m(\u001b[0m\u001b[0mfilename\u001b[0m\u001b[0;34m)\u001b[0m \u001b[0;32mas\u001b[0m \u001b[0mreader\u001b[0m\u001b[0;34m:\u001b[0m\u001b[0;34m\u001b[0m\u001b[0;34m\u001b[0m\u001b[0m\n\u001b[0m\u001b[1;32m    200\u001b[0m         \u001b[0;32mfor\u001b[0m \u001b[0mrecord\u001b[0m \u001b[0;32min\u001b[0m \u001b[0mreader\u001b[0m\u001b[0;34m.\u001b[0m\u001b[0mrecords\u001b[0m\u001b[0;34m(\u001b[0m\u001b[0;34m)\u001b[0m\u001b[0;34m:\u001b[0m\u001b[0;34m\u001b[0m\u001b[0;34m\u001b[0m\u001b[0m\n\u001b[1;32m    201\u001b[0m             \u001b[0mtime_used\u001b[0m \u001b[0;34m=\u001b[0m \u001b[0mrecord\u001b[0m\u001b[0;34m.\u001b[0m\u001b[0mwall_clock_time\u001b[0m\u001b[0;34m\u001b[0m\u001b[0;34m\u001b[0m\u001b[0m\n",
            "\u001b[0;32m/usr/lib/python3.8/contextlib.py\u001b[0m in \u001b[0;36m__enter__\u001b[0;34m(self)\u001b[0m\n\u001b[1;32m    111\u001b[0m         \u001b[0;32mdel\u001b[0m \u001b[0mself\u001b[0m\u001b[0;34m.\u001b[0m\u001b[0margs\u001b[0m\u001b[0;34m,\u001b[0m \u001b[0mself\u001b[0m\u001b[0;34m.\u001b[0m\u001b[0mkwds\u001b[0m\u001b[0;34m,\u001b[0m \u001b[0mself\u001b[0m\u001b[0;34m.\u001b[0m\u001b[0mfunc\u001b[0m\u001b[0;34m\u001b[0m\u001b[0;34m\u001b[0m\u001b[0m\n\u001b[1;32m    112\u001b[0m         \u001b[0;32mtry\u001b[0m\u001b[0;34m:\u001b[0m\u001b[0;34m\u001b[0m\u001b[0;34m\u001b[0m\u001b[0m\n\u001b[0;32m--> 113\u001b[0;31m             \u001b[0;32mreturn\u001b[0m \u001b[0mnext\u001b[0m\u001b[0;34m(\u001b[0m\u001b[0mself\u001b[0m\u001b[0;34m.\u001b[0m\u001b[0mgen\u001b[0m\u001b[0;34m)\u001b[0m\u001b[0;34m\u001b[0m\u001b[0;34m\u001b[0m\u001b[0m\n\u001b[0m\u001b[1;32m    114\u001b[0m         \u001b[0;32mexcept\u001b[0m \u001b[0mStopIteration\u001b[0m\u001b[0;34m:\u001b[0m\u001b[0;34m\u001b[0m\u001b[0;34m\u001b[0m\u001b[0m\n\u001b[1;32m    115\u001b[0m             \u001b[0;32mraise\u001b[0m \u001b[0mRuntimeError\u001b[0m\u001b[0;34m(\u001b[0m\u001b[0;34m\"generator didn't yield\"\u001b[0m\u001b[0;34m)\u001b[0m \u001b[0;32mfrom\u001b[0m \u001b[0;32mNone\u001b[0m\u001b[0;34m\u001b[0m\u001b[0;34m\u001b[0m\u001b[0m\n",
            "\u001b[0;32m/usr/local/lib/python3.8/dist-packages/flaml/training_log.py\u001b[0m in \u001b[0;36mtraining_log_reader\u001b[0;34m(filename)\u001b[0m\n\u001b[1;32m    176\u001b[0m     \u001b[0;32mtry\u001b[0m\u001b[0;34m:\u001b[0m\u001b[0;34m\u001b[0m\u001b[0;34m\u001b[0m\u001b[0m\n\u001b[1;32m    177\u001b[0m         \u001b[0mr\u001b[0m \u001b[0;34m=\u001b[0m \u001b[0mTrainingLogReader\u001b[0m\u001b[0;34m(\u001b[0m\u001b[0mfilename\u001b[0m\u001b[0;34m)\u001b[0m\u001b[0;34m\u001b[0m\u001b[0;34m\u001b[0m\u001b[0m\n\u001b[0;32m--> 178\u001b[0;31m         \u001b[0mr\u001b[0m\u001b[0;34m.\u001b[0m\u001b[0mopen\u001b[0m\u001b[0;34m(\u001b[0m\u001b[0;34m)\u001b[0m\u001b[0;34m\u001b[0m\u001b[0;34m\u001b[0m\u001b[0m\n\u001b[0m\u001b[1;32m    179\u001b[0m         \u001b[0;32myield\u001b[0m \u001b[0mr\u001b[0m\u001b[0;34m\u001b[0m\u001b[0;34m\u001b[0m\u001b[0m\n\u001b[1;32m    180\u001b[0m     \u001b[0;32mfinally\u001b[0m\u001b[0;34m:\u001b[0m\u001b[0;34m\u001b[0m\u001b[0;34m\u001b[0m\u001b[0m\n",
            "\u001b[0;32m/usr/local/lib/python3.8/dist-packages/flaml/training_log.py\u001b[0m in \u001b[0;36mopen\u001b[0;34m(self)\u001b[0m\n\u001b[1;32m    133\u001b[0m \u001b[0;34m\u001b[0m\u001b[0m\n\u001b[1;32m    134\u001b[0m     \u001b[0;32mdef\u001b[0m \u001b[0mopen\u001b[0m\u001b[0;34m(\u001b[0m\u001b[0mself\u001b[0m\u001b[0;34m)\u001b[0m\u001b[0;34m:\u001b[0m\u001b[0;34m\u001b[0m\u001b[0;34m\u001b[0m\u001b[0m\n\u001b[0;32m--> 135\u001b[0;31m         \u001b[0mself\u001b[0m\u001b[0;34m.\u001b[0m\u001b[0mfile\u001b[0m \u001b[0;34m=\u001b[0m \u001b[0mopen\u001b[0m\u001b[0;34m(\u001b[0m\u001b[0mself\u001b[0m\u001b[0;34m.\u001b[0m\u001b[0mfilename\u001b[0m\u001b[0;34m)\u001b[0m\u001b[0;34m\u001b[0m\u001b[0;34m\u001b[0m\u001b[0m\n\u001b[0m\u001b[1;32m    136\u001b[0m \u001b[0;34m\u001b[0m\u001b[0m\n\u001b[1;32m    137\u001b[0m     \u001b[0;32mdef\u001b[0m \u001b[0mrecords\u001b[0m\u001b[0;34m(\u001b[0m\u001b[0mself\u001b[0m\u001b[0;34m)\u001b[0m\u001b[0;34m:\u001b[0m\u001b[0;34m\u001b[0m\u001b[0;34m\u001b[0m\u001b[0m\n",
            "\u001b[0;31mFileNotFoundError\u001b[0m: [Errno 2] No such file or directory: '.segment_automl_0.5h.log'"
          ]
        }
      ]
    }
  ]
}